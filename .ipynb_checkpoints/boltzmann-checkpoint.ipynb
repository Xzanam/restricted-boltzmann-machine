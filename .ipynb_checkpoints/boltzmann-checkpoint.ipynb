{
 "cells": [
  {
   "cell_type": "markdown",
   "id": "594b154e-34a1-436d-9de4-e96a32d1e906",
   "metadata": {},
   "source": [
    "<h3>Introduction</h3>\n",
    "<b>Restricted Boltzmann Machine (RBM):</b>  RBMs are shallow neural nets that learn to reconstruct data by themselves in an unsupervised fashion.  \n",
    "\n",
    "\n",
    "<h4>Why are RBMs important?</h4>\n",
    "An RBM is a basic form of autoencoder.  It can automatically extract <b>meaningful</b> features from a given input.\n",
    "\n",
    "\n",
    "<h4>How does it work?</h4>\n",
    "RBM is a 2 layer neural network. Simply, RBM takes the inputs and translates those into a set of binary values that represents them in the hidden layer. Then, these numbers can be translated back to reconstruct the inputs. Through several forward and backward passes, the RBM will be trained, and a trained RBM can reveal which features are the most important ones when detecting patterns.   \n",
    "\n",
    "\n",
    "<h4>What are the applications of an RBM?</h4>\n",
    "RBM is useful for <a href='http://www.cs.utoronto.ca/~hinton/absps/netflixICML.pdf'>  Collaborative Filtering</a>, dimensionality reduction, classification, regression, feature learning, topic modeling and even <b>Deep Belief Networks</b>.\n",
    "\n",
    "<h4>Is RBM a generative or Discriminative model?</h4>\n",
    "RBM is a generative model.\n",
    "\n",
    "<b>Discriminative:</b> Consider a classification problem where we want to learn to distinguish between Sedan cars (y = 1) and SUV cars (y = 0), based on some features of cars. Given a training set, an algorithm like logistic regression tries to find a straight line, or <i>decision boundary</i>, that separates the suv and sedan.  \n",
    "\n",
    "<b>Generative:</b> looking at cars, we can build a model of what Sedan cars look like. Then, looking at SUVs, we can build a separate model of what SUV cars look like. Finally, to classify a new car, we can match the new car against the Sedan model, and match it against the SUV model, to see whether the new car looks more like the SUV or Sedan. \n",
    "\n",
    "Generative Models specify a probability distribution over a dataset of input vectors. We can carry out both supervised and unsupervised tasks with generative models:\n",
    "<ul>\n",
    "    <li>In an unsupervised task, we try to form a model for $P(x)$, where $P$ is the probability given $x$ as an input vector.</li>\n",
    "    <li>In the supervised task, we first form a model for $P(x|y)$, where $P$ is the probability of $x$ given $y$(the label for $x$). For example, if $y = 0$ indicates that a car is an SUV, and $y = 1$ indicates that a car is a sedan, then $p(x|y = 0)$ models the distribution of SUV features, and $p(x|y = 1)$ models the distribution of sedan features. If we manage to find $P(x|y)$ and $P(y)$, then we can use <b>Bayes rule</b> to estimate $P(y|x)$, because:   \n",
    "        $$p(y|x) = \\frac{p(x|y)p(y)}{p(x)}$$</li>\n",
    "</ul>\n",
    "\n"
   ]
  },
  {
   "cell_type": "markdown",
   "id": "da5267da-43dd-4881-88a4-399d507c1445",
   "metadata": {},
   "source": [
    "<a id=\"ref2\"></a>\n",
    "<h3>RBM layers</h3>\n",
    "\n",
    "An RBM has two layers. The first layer of the RBM is called the <b>visible</b> (or input layer). Imagine that our toy example, has only vectors with 7 values, so the visible layer must have $V=7$ input nodes. \n",
    "The second layer is the <b>hidden</b> layer, which has $H$ neurons in our case. Each hidden node takes on values of either 0 or 1 (i.e., $h_i = 1$ or $h_i$ = 0), with a probability that is a logistic function of the inputs it receives from the other $V$ visible units, called for example, $p(h_i = 1)$. For our toy sample, we'll use 2 nodes in the hidden layer, so $H = 2$.\n",
    "\n",
    "<center><img src=\"https://ibm.box.com/shared/static/eu26opvcefgls6vnwuo29uwp0nudmokh.png\" alt=\"RBM Model\" style=\"width: 400px;\"></center>\n"
   ]
  },
  {
   "cell_type": "markdown",
   "id": "b09936fe-28c0-48b8-aeaf-b8a8776ad3af",
   "metadata": {},
   "source": [
    "     \n",
    "\n",
    "Each node in the first layer also has a <b>bias</b>. We will denote the bias as $v_{bias}$, and this single value is shared among the $V$ visible units.\n",
    "\n",
    "The <b>bias</b> of the second is defined similarly as $h_{bias}$, and this single value among the $H$ hidden units.\n"
   ]
  },
  {
   "cell_type": "markdown",
   "id": "8e3b0cc2-5aaa-4f9a-a775-8ecd094cf5cd",
   "metadata": {},
   "source": [
    "<a id=\"ref3\"></a>\n",
    "<h3>What RBM can do after training?</h3>\n",
    "Think of RBM as a model that has been trained based on images of a dataset of many SUV and sedan cars. Also, imagine that the RBM network has only two hidden nodes, where one node encodes the weight and, and the other encodes the size.  \n",
    "In a sense, the different configurations represent different cars, where one is an SUV and the other is Sedan.  In a training process, through many forward and backward passes, the RBM adjust its weights to send a stronger signal to either the SUV node (0, 1) or the sedan node (1, 0) in the hidden layer, given the pixels of images. Now, given an SUV in hidden layer, which distribution of pixels should we expect? RBM can give you 2 things. First, it encodes your images in hidden layer. Second, it gives you the probability of observing a case, given some hidden values.\n",
    "\n",
    "\n",
    "<h3>The Inference Process</h3>\n",
    "\n",
    "RBM has two phases:\n",
    "<ul>\n",
    "    <li>Forward Pass</li>  \n",
    "    <li>Backward Pass or Reconstruction</li>\n",
    "</ul>\n",
    "\n",
    "<b>Phase 1) Forward pass:</b>  \n",
    "\n",
    "Input one training sample (one image) $\\mathbf{x}$ through all visible nodes, and pass it to all hidden nodes. Processing happens in each node in the hidden layer. This computation begins by making stochastic decisions about whether to transmit that input or not (i.e. to determine the state of each hidden layer).  First, the probability vector is computed using the input feature vector $\\mathbf{x}$, the weight matrix $\\mathbf{W}$, and the bias term $h_{bias}$, as \n",
    "\n",
    "\n",
    "$$p({h_j}|\\mathbf x)= \\sigma( \\sum_{i=1}^V W_{ij} x_i + h_{bias} )$$, \n",
    "\n",
    "where $\\sigma(z) = (1+e^{-z})^{-1}$ is the logistic function.\n",
    "\n",
    "\n",
    "So, what does $p({h_j})$ represent? It is the <b>probability distribution</b> of the hidden units. That is, RBM uses inputs $x_i$ to make predictions about hidden node activations. For example, imagine that the hidden node activation values are [0.51 0.84] for the first training item. It tells you that the conditional probability for each hidden neuron for Phase 1 is: \n",
    "\n",
    "$$p(h_{1} = 1|\\mathbf{v}) = 0.51$$\n",
    "$$p(h_{2} = 1|\\mathbf{v}) = 0.84$$\n",
    "\n",
    "As a result, for each row in the training set, vector of probabilities is generated.  In TensorFlow, this is referred to as a `tensor` with a shape of (1,2). \n",
    "\n",
    "We then turn unit $j$ with probability $p(h_{j}|\\mathbf{v})$, and turn it off with probability $1 - p(h_{j}|\\mathbf{v})$ by generating a uniform random number vector $\\mathbf{\\xi}$, and comparing it to the activation probability as \n",
    "\n",
    "<center>If $\\xi_j>p(h_{j}|\\mathbf{v})$, then $h_j=1$, else $h_j=0$.</center>\n",
    "\n",
    "\n",
    "Therefore, the conditional probability of a configuration of $\\mathbf{h}$ given $\\mathbf{v}$ (for a training sample) is:\n",
    "\n",
    "$$p(\\mathbf{h} \\mid \\mathbf{v}) = \\prod_{j=1}^H p(h_j \\mid \\mathbf{v})$$\n",
    "\n",
    "\n",
    "where $H$ is the number of hidden units.\n",
    "\n"
   ]
  },
  {
   "cell_type": "markdown",
   "id": "ed6530a0-17c5-4272-9d33-0f524d109c4c",
   "metadata": {},
   "source": [
    "<b>Phase 2) Backward Pass (Reconstruction):</b>\n",
    "The RBM reconstructs data by making several forward and backward passes between the visible and hidden layers.\n",
    "\n",
    "So, in the second phase (i.e. reconstruction phase), the samples from the hidden layer (i.e. $\\mathbf h$) becomes the input in the backward pass. The same weight matrix and visible layer biases are used to passed to the sigmoid function. The reproduced output is a reconstruction which is an approximation of the original input.\n"
   ]
  },
  {
   "cell_type": "markdown",
   "id": "7d5f2aee-b7eb-4502-8991-219f3dc59e2d",
   "metadata": {},
   "source": [
    "RBM learns a probability distribution over the input, and then, after being trained, the RBM can generate new samples from the learned probability distribution. As you know, <b>probability distribution</b>, is a mathematical function that provides the probabilities of occurrence of different possible outcomes in an experiment.\n",
    "\n",
    "The (conditional) probability distribution over the visible units v is given by\n",
    "\n",
    "$$p(\\mathbf{v} \\mid \\mathbf{h}) = \\prod_{i=1}^V p(v_i \\mid \\mathbf{h}),$$\n",
    "\n",
    "\n",
    "where,\n",
    "\n",
    "$$p(v_i \\mid \\mathbf{h}) = \\sigma\\left(\\sum_{j=1}^H W_{ji} h_j + v_{bias} \\right)$$\n",
    "\n",
    "so, given current state of hidden units and weights, what is the probability of generating [1. 0. 0. 1. 0. 0. 0.] in reconstruction phase, based on the above <b>probability distribution</b> function?\n"
   ]
  },
  {
   "cell_type": "markdown",
   "id": "8e2043f2-9561-4312-9e80-ebfca58ad612",
   "metadata": {},
   "source": [
    "### What is the objective function?\n",
    "\n",
    "<h2>Goal</h2>\n",
    " <b>Maximize the liklihood of our data being drawn from that distribution</b>\n",
    "<h2>Error Calculation</h2>\n",
    "In each epoch, the \"error\" is computed as a sum of the squared difference between step 1 and step n, i.e the difference between the original data and it's reconstruction\n",
    "<br>The Mean Square Error(MSE)\n"
   ]
  },
  {
   "cell_type": "code",
   "execution_count": 10,
   "id": "1174d5c6-5a71-4f50-b4a7-03839eca8f26",
   "metadata": {},
   "outputs": [],
   "source": [
    "import numpy as np \n",
    "import matplotlib.pyplot as plt\n",
    "import tensorflow as tf\n",
    "from keras.datasets import mnist\n",
    "from keras.layers import Flatten"
   ]
  },
  {
   "cell_type": "code",
   "execution_count": 11,
   "id": "d867c78a-00ba-4cc1-96a4-88d5b20de7b8",
   "metadata": {},
   "outputs": [],
   "source": [
    "def error(v0_state, v1_state):\n",
    "    return tf.reduce_mean(tf.square(v0_state - v1_state))"
   ]
  },
  {
   "cell_type": "markdown",
   "id": "ddb3cf3a-6ad8-428c-bf8e-59f7d4397c69",
   "metadata": {},
   "source": [
    "<h2>Training the model</h2>\n",
    "In order to train the RBM, the goal is to maximize the product of probabilities assigned to all rows <b>v</b> in the training set <b>V</b>(a matrix) \n",
    "$$\\arg \\max_W \\prod_{\\mathbf{v}\\in\\mathbf{V}_T} p(\\mathbf{v})$$\n",
    "\n",
    "this is equivalent to maximizing the expectation of the log probability,\n",
    "$$\\arg\\max_W\\left[ \\mathbb{E} \\left(\\prod_{\\mathbf v\\in \\mathbf V}\\text{log} \\left(p(\\mathbf v)\\right) \\right) \\right]$$\n",
    "\n",
    "\n",
    "so the approach is to update the weights $W_{ij}$ to increase <b>p(v)</b> for all <b>v</b>, so we need to calculate the derivative\n",
    "$$\\frac{\\partial \\log p(\\mathbf v)}{\\partial W_{ij}}$$\n",
    "\n",
    "This cannot be implemented using the usual gradient descent algorithm, so another approach is used that includes: \n",
    "<ol>\n",
    "    <li>Gibbs Sampling</li>\n",
    "    <li>Contrastive Divergence</li>\n",
    "</ol>\n",
    "\n",
    "<h4>Gibbs Sampling Step 1</h4> \n",
    "Given an input vector $\\mathbf{v}$, we are using $p(\\mathbf{h}|\\mathbf{v})$ to predict the hidden values $\\mathbf{h}$. \n",
    "  $$p({h_j}|\\mathbf v)= \\sigma\\left(\\sum_{i=1}^V W_{ij} v_i + h_{bias} \\right)$$\n",
    "The samples are generated from this distribution by generating the uniform random variate vector $\\mathbf{\\xi} \\sim U[0,1]$ of length $H$ and comparing to the computed probabilities as\n",
    "\n",
    "\n",
    "<center>If $\\xi_j>p(h_{j}|\\mathbf{v})$, then $h_j=1$, else $h_j=0$.</center>\n",
    "\n",
    "\n",
    "<h4>Gibbs Sampling Step 2</h4> \n",
    "Then, knowing the hidden values, we use $p(\\mathbf v| \\mathbf h)$ for reconstructing of new input values v. \n",
    "\n",
    "   $$p({v_i}|\\mathbf h)= \\sigma\\left(\\sum_{j=1}^H W^{T}_{ij} h_j + v_{bias} \\right)$$\n",
    "\n",
    "\n",
    "The samples are generated from this distribution by generating a uniform random variate vector $\\mathbf{\\xi} \\sim U[0,1]$ of length $V$ and comparing to the computed probabilities as\n",
    "\n",
    "<center>If $\\xi_i>p(v_{i}|\\mathbf{h})$, then $v_i=1$, else $v_i=0$.</center>\n",
    "\n",
    "Let vectors $\\mathbf v_k$ and $\\mathbf h_k$ be for the $k$th iteration.  In general, the $kth$ state is generrated as: \n",
    "\n",
    "\n",
    "    \n",
    "<b>Iteration</b> $k$: \n",
    "\n",
    "$$\\mathbf v_{k-1} \\Rightarrow p(\\mathbf h_{k-1}|\\mathbf v_{k-1})\\Rightarrow \\mathbf h_{k-1}\\Rightarrow p(\\mathbf v_{k}|\\mathbf h_{k-1})\\Rightarrow \\mathbf v_k$$       \n",
    "    \n",
    "<h3>Contrastive Divergence (CD-k)</h3>\n",
    "The update of the weight matrix is done during the Contrastive Divergence step. \n",
    "\n",
    "Vectors v0 and vk are used to calculate the activation probabilities for hidden values h0 and hk. The difference between the outer products of those probabilities with input vectors v0 and vk results in the update matrix:\n",
    "\n",
    "\n",
    "$$\\Delta \\mathbf W_k =\\mathbf v_k \\otimes \\mathbf h_k - \\mathbf v_{k-1} \\otimes \\mathbf h_{k-1}$$\n",
    "\n",
    "Contrastive Divergence is actually matrix of values that is computed and used to adjust values of the $\\mathbf W$ matrix. Changing $\\mathbf W$ incrementally leads to training of the  $\\mathbf W$ values. Then, on each step (epoch), $\\mathbf W$ is updated using the following:\n",
    "\n",
    "$$\\mathbf W_k = \\mathbf W_{k-1} + \\alpha * \\Delta \\mathbf W_k$$"
   ]
  },
  {
   "cell_type": "code",
   "execution_count": 12,
   "id": "257d2103-553e-4f05-97c6-d634bfdda0cc",
   "metadata": {
    "scrolled": true
   },
   "outputs": [
    {
     "name": "stderr",
     "output_type": "stream",
     "text": [
      "2024-11-23 14:07:22.287232: I external/local_xla/xla/stream_executor/cuda/cuda_executor.cc:998] successful NUMA node read from SysFS had negative value (-1), but there must be at least one NUMA node, so returning NUMA node zero. See more at https://github.com/torvalds/linux/blob/v6.0/Documentation/ABI/testing/sysfs-bus-pci#L344-L355\n",
      "2024-11-23 14:07:22.408749: I external/local_xla/xla/stream_executor/cuda/cuda_executor.cc:998] successful NUMA node read from SysFS had negative value (-1), but there must be at least one NUMA node, so returning NUMA node zero. See more at https://github.com/torvalds/linux/blob/v6.0/Documentation/ABI/testing/sysfs-bus-pci#L344-L355\n",
      "2024-11-23 14:07:22.412052: I external/local_xla/xla/stream_executor/cuda/cuda_executor.cc:998] successful NUMA node read from SysFS had negative value (-1), but there must be at least one NUMA node, so returning NUMA node zero. See more at https://github.com/torvalds/linux/blob/v6.0/Documentation/ABI/testing/sysfs-bus-pci#L344-L355\n",
      "2024-11-23 14:07:22.417321: I external/local_xla/xla/stream_executor/cuda/cuda_executor.cc:998] successful NUMA node read from SysFS had negative value (-1), but there must be at least one NUMA node, so returning NUMA node zero. See more at https://github.com/torvalds/linux/blob/v6.0/Documentation/ABI/testing/sysfs-bus-pci#L344-L355\n",
      "2024-11-23 14:07:22.420493: I external/local_xla/xla/stream_executor/cuda/cuda_executor.cc:998] successful NUMA node read from SysFS had negative value (-1), but there must be at least one NUMA node, so returning NUMA node zero. See more at https://github.com/torvalds/linux/blob/v6.0/Documentation/ABI/testing/sysfs-bus-pci#L344-L355\n",
      "2024-11-23 14:07:22.423507: I external/local_xla/xla/stream_executor/cuda/cuda_executor.cc:998] successful NUMA node read from SysFS had negative value (-1), but there must be at least one NUMA node, so returning NUMA node zero. See more at https://github.com/torvalds/linux/blob/v6.0/Documentation/ABI/testing/sysfs-bus-pci#L344-L355\n",
      "2024-11-23 14:07:22.602315: I external/local_xla/xla/stream_executor/cuda/cuda_executor.cc:998] successful NUMA node read from SysFS had negative value (-1), but there must be at least one NUMA node, so returning NUMA node zero. See more at https://github.com/torvalds/linux/blob/v6.0/Documentation/ABI/testing/sysfs-bus-pci#L344-L355\n",
      "2024-11-23 14:07:22.604258: I external/local_xla/xla/stream_executor/cuda/cuda_executor.cc:998] successful NUMA node read from SysFS had negative value (-1), but there must be at least one NUMA node, so returning NUMA node zero. See more at https://github.com/torvalds/linux/blob/v6.0/Documentation/ABI/testing/sysfs-bus-pci#L344-L355\n",
      "2024-11-23 14:07:22.605974: I external/local_xla/xla/stream_executor/cuda/cuda_executor.cc:998] successful NUMA node read from SysFS had negative value (-1), but there must be at least one NUMA node, so returning NUMA node zero. See more at https://github.com/torvalds/linux/blob/v6.0/Documentation/ABI/testing/sysfs-bus-pci#L344-L355\n",
      "2024-11-23 14:07:22.607492: I tensorflow/core/common_runtime/gpu/gpu_device.cc:1928] Created device /job:localhost/replica:0/task:0/device:GPU:0 with 4166 MB memory:  -> device: 0, name: NVIDIA GeForce RTX 3060 Laptop GPU, pci bus id: 0000:01:00.0, compute capability: 8.6\n",
      "2024-11-23 14:07:22.612580: W external/local_tsl/tsl/framework/cpu_allocator_impl.cc:83] Allocation of 376320000 exceeds 10% of free system memory.\n"
     ]
    }
   ],
   "source": [
    "(train_X, train_y), (test_X, test_y)= mnist.load_data()\n",
    "flatten = Flatten(dtype='float32')\n",
    "train_X = flatten(train_X/ 255.0)\n",
    "train_y = flatten(train_y/255.0)"
   ]
  },
  {
   "cell_type": "code",
   "execution_count": 13,
   "id": "eb4f7c40-540a-4afd-b57a-c45c59a2837b",
   "metadata": {},
   "outputs": [],
   "source": [
    "def create_batches(data, label, batch_size):\n",
    "    num_samples = len(data)\n",
    "    num_batches = num_samples // batch_size\n",
    "    if num_samples % batch_size != 0:\n",
    "        num_batches += 1\n",
    "    batches = []\n",
    "    for i in range(num_batches):\n",
    "        start_index = i * batch_size\n",
    "        end_index = min((i+1) * batch_size, num_samples)#last batch ko lagi if num_samples % batch_size != 0 \n",
    "        batch_data = data[start_index:end_index]\n",
    "        batch_label = label[start_index:end_index]\n",
    "        batches.append((batch_data, batch_label))\n",
    "    return batches"
   ]
  },
  {
   "cell_type": "code",
   "execution_count": 14,
   "id": "c1d8ebb8-aa57-4baf-8543-75ff96b26a32",
   "metadata": {},
   "outputs": [
    {
     "data": {
      "text/plain": [
       "<matplotlib.image.AxesImage at 0x76760d107310>"
      ]
     },
     "execution_count": 14,
     "metadata": {},
     "output_type": "execute_result"
    },
    {
     "data": {
      "image/png": "[encoded data removed]",
      "text/plain": [
       "<Figure size 400x400 with 1 Axes>"
      ]
     },
     "metadata": {},
     "output_type": "display_data"
    }
   ],
   "source": [
    "a = train_X[0].numpy().reshape(28, 28)\n",
    "plt.rcParams['figure.figsize'] = (4.0, 4.0)\n",
    "plt.imshow(a, cmap = \"gray\")"
   ]
  },
  {
   "cell_type": "code",
   "execution_count": 15,
   "id": "4814b8fd-a907-431f-9f03-d950ad81b6b8",
   "metadata": {},
   "outputs": [
    {
     "name": "stdout",
     "output_type": "stream",
     "text": [
      "(60000, 784)\n"
     ]
    }
   ],
   "source": [
    "print(train_X.shape)"
   ]
  },
  {
   "cell_type": "code",
   "execution_count": 20,
   "id": "d16efd63-fc6d-4d0f-a6da-5a25673a8a2a",
   "metadata": {},
   "outputs": [],
   "source": [
    "class RBM:\n",
    "    def __init__(self, n_visible, n_hidden): \n",
    "        self.n_visible = n_visible\n",
    "        self.n_hidden = n_hidden\n",
    "        self.v0_state = tf.Variable(tf.zeros([n_visible]), tf.float32)\n",
    "        self.h0_state = tf.Variable(tf.zeros([n_hidden]), tf.float32)\n",
    "        self.hb = tf.Variable(tf.zeros([n_hidden]), tf.float32)\n",
    "        self.vb = tf.Variable(tf.zeros([n_visible]), tf.float32)\n",
    "        self.W = tf.Variable(tf.zeros([n_visible, n_hidden]), tf.float32)\n",
    "        self.errors = []\n",
    "        self.weights = []\n",
    "\n",
    "    def hidden_layer(self, v_state):\n",
    "        h_prob = tf.nn.sigmoid(tf.matmul([v_state], self.W) + self.hb) \n",
    "        h_state = tf.nn.relu(tf.sign(h_prob - tf.random.uniform(tf.shape(h_prob)))) \n",
    "        return h_state\n",
    "\n",
    "    def reconstructed_output(self, h_state):\n",
    "        v_prob = tf.nn.sigmoid(tf.matmul(h_state, tf.transpose(self.W)) + self.vb) \n",
    "        v_state = tf.nn.relu(tf.sign(v_prob - tf.random.uniform(tf.shape(v_prob))))\n",
    "        return v_state[0]\n",
    "\n",
    "    def predict_reconstruct(self, h_state):\n",
    "        v_prob = tf.nn.sigmoid(tf.matmul(h_state, tf.transpose(self.W)) + self.vb)\n",
    "        return v_prob\n",
    "\n",
    "    def error(self, v0_state, v1_state):\n",
    "        return tf.reduce_mean(tf.square(v0_state - v1_state))\n",
    "\n",
    "    def train(self, train_ds, learning_rate=0.01, epochs=5, batchsize=32):\n",
    "        batch_number = 0\n",
    "        K = 1  # Set K to 1 for now\n",
    "        \n",
    "        for epoch in range(epochs):\n",
    "            for batch_x, batch_y in train_ds: \n",
    "                batch_number += 1\n",
    "                for i_sample in range(batchsize):\n",
    "                    for k in range(K):\n",
    "                            v0_state = batch_x[i_sample]\n",
    "                            h0_state = self.hidden_layer(v0_state)\n",
    "                            v1_state = self.reconstructed_output(h0_state)\n",
    "                            h1_state = self.hidden_layer(v1_state)\n",
    "\n",
    "                            delta_W = tf.matmul(tf.transpose([v0_state]), h0_state) - tf.matmul(tf.transpose([v1_state]), h1_state)\n",
    "                            self.W = self.W + learning_rate * delta_W\n",
    "                        \n",
    "                            delta_vb = tf.reduce_mean(v0_state - v1_state, axis=0)\n",
    "                            delta_hb = tf.reduce_mean(h0_state - h1_state, axis=0) \n",
    "                            self.vb = self.vb + learning_rate * delta_vb\n",
    "                            self.hb = self.hb + learning_rate * delta_hb\n",
    "                            \n",
    "                            v0_state = v1_state\n",
    "\n",
    "                if i_sample == batchsize - 1:\n",
    "                    err = self.error(batch_x[i_sample], v1_state)\n",
    "                    self.errors.append(err)\n",
    "                    self.weights.append(self.W)\n",
    "                    print('Epoch: %d' % epoch, \"batch #: %i \" % batch_number, \n",
    "                          \"of %i\" % int(60e3 / batchsize), \"sample #: %i\" % i_sample,\n",
    "                          'reconstruction error: %f' % err)\n",
    "    def save_model(self, filepath):\n",
    "        variables = { 'W':self.W.numpy(), \n",
    "                     'vb':self.vb.numpy(), \n",
    "                     'hb':self.hb.numpy()}\n",
    "        np.savez(filepath, **variables)\n",
    "\n",
    "    def plot_error():\n",
    "        plt.plot(self.errors)\n",
    "        plt.xlabel(\"Batch Number\")\n",
    "        plt.ylabel(\"Error\")\n",
    "        plt.show()\n",
    "    \n",
    "    @classmethod\n",
    "    def load_model(cls, filepath):\n",
    "        data = np.load(filepath)\n",
    "        model = cls(data['W'].shape[0], data['W'].shape[1])\n",
    "        model.W.assign(data['W'])\n",
    "        model.vb.assign(data['vb'])\n",
    "        model.hb.assign(data['hb'])\n",
    "        return model \n",
    "    def predict(self, input_data):\n",
    "        reconstructed_data = []\n",
    "        for sample in input_data:\n",
    "            v0_state = sample\n",
    "            h0_state = self.hidden_layer(v0_state)\n",
    "            v1_state = self.predict_reconstruct(h0_state)\n",
    "            v0_state = v1_state\n",
    "            reconstructed_data.append(v1_state.numpy())\n",
    "        return np.array(reconstructed_data)\n"
   ]
  },
  {
   "cell_type": "code",
   "execution_count": 21,
   "id": "870677c8-27d8-4771-9d64-8c6e9ee7fa51",
   "metadata": {},
   "outputs": [],
   "source": [
    "train_ds = \\\n",
    "    tf.data.Dataset.from_tensor_slices((train_X, train_y)).batch(200).prefetch(tf.data.experimental.AUTOTUNE)"
   ]
  },
  {
   "cell_type": "code",
   "execution_count": 22,
   "id": "09aa7e62-dbc8-43a6-b309-bb44b30282a1",
   "metadata": {},
   "outputs": [
    {
     "name": "stderr",
     "output_type": "stream",
     "text": [
      "2024-11-23 14:08:26.259117: W external/local_tsl/tsl/framework/cpu_allocator_impl.cc:83] Allocation of 188160000 exceeds 10% of free system memory.\n"
     ]
    },
    {
     "name": "stdout",
     "output_type": "stream",
     "text": [
      "Epoch: 0 batch #: 1  of 300 sample #: 199 reconstruction error: 0.169856\n",
      "Epoch: 0 batch #: 2  of 300 sample #: 199 reconstruction error: 0.205435\n",
      "Epoch: 0 batch #: 3  of 300 sample #: 199 reconstruction error: 0.109270\n",
      "Epoch: 0 batch #: 4  of 300 sample #: 199 reconstruction error: 0.114157\n",
      "Epoch: 0 batch #: 5  of 300 sample #: 199 reconstruction error: 0.109061\n",
      "Epoch: 0 batch #: 6  of 300 sample #: 199 reconstruction error: 0.180326\n",
      "Epoch: 0 batch #: 7  of 300 sample #: 199 reconstruction error: 0.113304\n",
      "Epoch: 0 batch #: 8  of 300 sample #: 199 reconstruction error: 0.117193\n",
      "Epoch: 0 batch #: 9  of 300 sample #: 199 reconstruction error: 0.093074\n",
      "Epoch: 0 batch #: 10  of 300 sample #: 199 reconstruction error: 0.191107\n",
      "Epoch: 0 batch #: 11  of 300 sample #: 199 reconstruction error: 0.090145\n",
      "Epoch: 0 batch #: 12  of 300 sample #: 199 reconstruction error: 0.141978\n",
      "Epoch: 0 batch #: 13  of 300 sample #: 199 reconstruction error: 0.068795\n",
      "Epoch: 0 batch #: 14  of 300 sample #: 199 reconstruction error: 0.099441\n",
      "Epoch: 0 batch #: 15  of 300 sample #: 199 reconstruction error: 0.095264\n",
      "Epoch: 0 batch #: 16  of 300 sample #: 199 reconstruction error: 0.104976\n",
      "Epoch: 0 batch #: 17  of 300 sample #: 199 reconstruction error: 0.067730\n",
      "Epoch: 0 batch #: 18  of 300 sample #: 199 reconstruction error: 0.123421\n",
      "Epoch: 0 batch #: 19  of 300 sample #: 199 reconstruction error: 0.143947\n",
      "Epoch: 0 batch #: 20  of 300 sample #: 199 reconstruction error: 0.087310\n",
      "Epoch: 0 batch #: 21  of 300 sample #: 199 reconstruction error: 0.072126\n",
      "Epoch: 0 batch #: 22  of 300 sample #: 199 reconstruction error: 0.096026\n",
      "Epoch: 0 batch #: 23  of 300 sample #: 199 reconstruction error: 0.104782\n",
      "Epoch: 0 batch #: 24  of 300 sample #: 199 reconstruction error: 0.118257\n",
      "Epoch: 0 batch #: 25  of 300 sample #: 199 reconstruction error: 0.079592\n",
      "Epoch: 0 batch #: 26  of 300 sample #: 199 reconstruction error: 0.116178\n",
      "Epoch: 0 batch #: 27  of 300 sample #: 199 reconstruction error: 0.112279\n",
      "Epoch: 0 batch #: 28  of 300 sample #: 199 reconstruction error: 0.091939\n",
      "Epoch: 0 batch #: 29  of 300 sample #: 199 reconstruction error: 0.112891\n",
      "Epoch: 0 batch #: 30  of 300 sample #: 199 reconstruction error: 0.102053\n",
      "Epoch: 0 batch #: 31  of 300 sample #: 199 reconstruction error: 0.096491\n",
      "Epoch: 0 batch #: 32  of 300 sample #: 199 reconstruction error: 0.116863\n",
      "Epoch: 0 batch #: 33  of 300 sample #: 199 reconstruction error: 0.057947\n",
      "Epoch: 0 batch #: 34  of 300 sample #: 199 reconstruction error: 0.085729\n",
      "Epoch: 0 batch #: 35  of 300 sample #: 199 reconstruction error: 0.078557\n",
      "Epoch: 0 batch #: 36  of 300 sample #: 199 reconstruction error: 0.074175\n",
      "Epoch: 0 batch #: 37  of 300 sample #: 199 reconstruction error: 0.070321\n",
      "Epoch: 0 batch #: 38  of 300 sample #: 199 reconstruction error: 0.067342\n",
      "Epoch: 0 batch #: 39  of 300 sample #: 199 reconstruction error: 0.079197\n",
      "Epoch: 0 batch #: 40  of 300 sample #: 199 reconstruction error: 0.109273\n",
      "Epoch: 0 batch #: 41  of 300 sample #: 199 reconstruction error: 0.060926\n",
      "Epoch: 0 batch #: 42  of 300 sample #: 199 reconstruction error: 0.060668\n",
      "Epoch: 0 batch #: 43  of 300 sample #: 199 reconstruction error: 0.120227\n",
      "Epoch: 0 batch #: 44  of 300 sample #: 199 reconstruction error: 0.072430\n",
      "Epoch: 0 batch #: 45  of 300 sample #: 199 reconstruction error: 0.052083\n",
      "Epoch: 0 batch #: 46  of 300 sample #: 199 reconstruction error: 0.032356\n",
      "Epoch: 0 batch #: 47  of 300 sample #: 199 reconstruction error: 0.050129\n",
      "Epoch: 0 batch #: 48  of 300 sample #: 199 reconstruction error: 0.038696\n",
      "Epoch: 0 batch #: 49  of 300 sample #: 199 reconstruction error: 0.143220\n",
      "Epoch: 0 batch #: 50  of 300 sample #: 199 reconstruction error: 0.043375\n",
      "Epoch: 0 batch #: 51  of 300 sample #: 199 reconstruction error: 0.059049\n",
      "Epoch: 0 batch #: 52  of 300 sample #: 199 reconstruction error: 0.025406\n",
      "Epoch: 0 batch #: 53  of 300 sample #: 199 reconstruction error: 0.108953\n",
      "Epoch: 0 batch #: 54  of 300 sample #: 199 reconstruction error: 0.056691\n",
      "Epoch: 0 batch #: 55  of 300 sample #: 199 reconstruction error: 0.119984\n",
      "Epoch: 0 batch #: 56  of 300 sample #: 199 reconstruction error: 0.050103\n",
      "Epoch: 0 batch #: 57  of 300 sample #: 199 reconstruction error: 0.046894\n",
      "Epoch: 0 batch #: 58  of 300 sample #: 199 reconstruction error: 0.074107\n",
      "Epoch: 0 batch #: 59  of 300 sample #: 199 reconstruction error: 0.074343\n",
      "Epoch: 0 batch #: 60  of 300 sample #: 199 reconstruction error: 0.105804\n",
      "Epoch: 0 batch #: 61  of 300 sample #: 199 reconstruction error: 0.075995\n",
      "Epoch: 0 batch #: 62  of 300 sample #: 199 reconstruction error: 0.076592\n",
      "Epoch: 0 batch #: 63  of 300 sample #: 199 reconstruction error: 0.056311\n",
      "Epoch: 0 batch #: 64  of 300 sample #: 199 reconstruction error: 0.091615\n",
      "Epoch: 0 batch #: 65  of 300 sample #: 199 reconstruction error: 0.093963\n",
      "Epoch: 0 batch #: 66  of 300 sample #: 199 reconstruction error: 0.079483\n",
      "Epoch: 0 batch #: 67  of 300 sample #: 199 reconstruction error: 0.049475\n",
      "Epoch: 0 batch #: 68  of 300 sample #: 199 reconstruction error: 0.063794\n",
      "Epoch: 0 batch #: 69  of 300 sample #: 199 reconstruction error: 0.097133\n",
      "Epoch: 0 batch #: 70  of 300 sample #: 199 reconstruction error: 0.087590\n",
      "Epoch: 0 batch #: 71  of 300 sample #: 199 reconstruction error: 0.067497\n",
      "Epoch: 0 batch #: 72  of 300 sample #: 199 reconstruction error: 0.051501\n",
      "Epoch: 0 batch #: 73  of 300 sample #: 199 reconstruction error: 0.098753\n",
      "Epoch: 0 batch #: 74  of 300 sample #: 199 reconstruction error: 0.105604\n",
      "Epoch: 0 batch #: 75  of 300 sample #: 199 reconstruction error: 0.055001\n",
      "Epoch: 0 batch #: 76  of 300 sample #: 199 reconstruction error: 0.073489\n",
      "Epoch: 0 batch #: 77  of 300 sample #: 199 reconstruction error: 0.109147\n",
      "Epoch: 0 batch #: 78  of 300 sample #: 199 reconstruction error: 0.089508\n",
      "Epoch: 0 batch #: 79  of 300 sample #: 199 reconstruction error: 0.117546\n",
      "Epoch: 0 batch #: 80  of 300 sample #: 199 reconstruction error: 0.037613\n",
      "Epoch: 0 batch #: 81  of 300 sample #: 199 reconstruction error: 0.050004\n",
      "Epoch: 0 batch #: 82  of 300 sample #: 199 reconstruction error: 0.045717\n",
      "Epoch: 0 batch #: 83  of 300 sample #: 199 reconstruction error: 0.074484\n",
      "Epoch: 0 batch #: 84  of 300 sample #: 199 reconstruction error: 0.070755\n",
      "Epoch: 0 batch #: 85  of 300 sample #: 199 reconstruction error: 0.046989\n",
      "Epoch: 0 batch #: 86  of 300 sample #: 199 reconstruction error: 0.101230\n",
      "Epoch: 0 batch #: 87  of 300 sample #: 199 reconstruction error: 0.072604\n",
      "Epoch: 0 batch #: 88  of 300 sample #: 199 reconstruction error: 0.027406\n",
      "Epoch: 0 batch #: 89  of 300 sample #: 199 reconstruction error: 0.063465\n",
      "Epoch: 0 batch #: 90  of 300 sample #: 199 reconstruction error: 0.064310\n",
      "Epoch: 0 batch #: 91  of 300 sample #: 199 reconstruction error: 0.041123\n",
      "Epoch: 0 batch #: 92  of 300 sample #: 199 reconstruction error: 0.065253\n",
      "Epoch: 0 batch #: 93  of 300 sample #: 199 reconstruction error: 0.106569\n",
      "Epoch: 0 batch #: 94  of 300 sample #: 199 reconstruction error: 0.108428\n",
      "Epoch: 0 batch #: 95  of 300 sample #: 199 reconstruction error: 0.063955\n",
      "Epoch: 0 batch #: 96  of 300 sample #: 199 reconstruction error: 0.053140\n",
      "Epoch: 0 batch #: 97  of 300 sample #: 199 reconstruction error: 0.114299\n",
      "Epoch: 0 batch #: 98  of 300 sample #: 199 reconstruction error: 0.092431\n",
      "Epoch: 0 batch #: 99  of 300 sample #: 199 reconstruction error: 0.061357\n",
      "Epoch: 0 batch #: 100  of 300 sample #: 199 reconstruction error: 0.093912\n",
      "Epoch: 0 batch #: 101  of 300 sample #: 199 reconstruction error: 0.072617\n",
      "Epoch: 0 batch #: 102  of 300 sample #: 199 reconstruction error: 0.089855\n",
      "Epoch: 0 batch #: 103  of 300 sample #: 199 reconstruction error: 0.083827\n",
      "Epoch: 0 batch #: 104  of 300 sample #: 199 reconstruction error: 0.080891\n",
      "Epoch: 0 batch #: 105  of 300 sample #: 199 reconstruction error: 0.053403\n",
      "Epoch: 0 batch #: 106  of 300 sample #: 199 reconstruction error: 0.115811\n",
      "Epoch: 0 batch #: 107  of 300 sample #: 199 reconstruction error: 0.137688\n",
      "Epoch: 0 batch #: 108  of 300 sample #: 199 reconstruction error: 0.064775\n",
      "Epoch: 0 batch #: 109  of 300 sample #: 199 reconstruction error: 0.108914\n",
      "Epoch: 0 batch #: 110  of 300 sample #: 199 reconstruction error: 0.067435\n",
      "Epoch: 0 batch #: 111  of 300 sample #: 199 reconstruction error: 0.109945\n",
      "Epoch: 0 batch #: 112  of 300 sample #: 199 reconstruction error: 0.045007\n",
      "Epoch: 0 batch #: 113  of 300 sample #: 199 reconstruction error: 0.077670\n",
      "Epoch: 0 batch #: 114  of 300 sample #: 199 reconstruction error: 0.072673\n",
      "Epoch: 0 batch #: 115  of 300 sample #: 199 reconstruction error: 0.057220\n",
      "Epoch: 0 batch #: 116  of 300 sample #: 199 reconstruction error: 0.064626\n",
      "Epoch: 0 batch #: 117  of 300 sample #: 199 reconstruction error: 0.044018\n",
      "Epoch: 0 batch #: 118  of 300 sample #: 199 reconstruction error: 0.086071\n",
      "Epoch: 0 batch #: 119  of 300 sample #: 199 reconstruction error: 0.118491\n",
      "Epoch: 0 batch #: 120  of 300 sample #: 199 reconstruction error: 0.077322\n",
      "Epoch: 0 batch #: 121  of 300 sample #: 199 reconstruction error: 0.041907\n",
      "Epoch: 0 batch #: 122  of 300 sample #: 199 reconstruction error: 0.110971\n",
      "Epoch: 0 batch #: 123  of 300 sample #: 199 reconstruction error: 0.071556\n",
      "Epoch: 0 batch #: 124  of 300 sample #: 199 reconstruction error: 0.056327\n",
      "Epoch: 0 batch #: 125  of 300 sample #: 199 reconstruction error: 0.048378\n",
      "Epoch: 0 batch #: 126  of 300 sample #: 199 reconstruction error: 0.081611\n",
      "Epoch: 0 batch #: 127  of 300 sample #: 199 reconstruction error: 0.086383\n",
      "Epoch: 0 batch #: 128  of 300 sample #: 199 reconstruction error: 0.052480\n",
      "Epoch: 0 batch #: 129  of 300 sample #: 199 reconstruction error: 0.049179\n",
      "Epoch: 0 batch #: 130  of 300 sample #: 199 reconstruction error: 0.081932\n",
      "Epoch: 0 batch #: 131  of 300 sample #: 199 reconstruction error: 0.068119\n",
      "Epoch: 0 batch #: 132  of 300 sample #: 199 reconstruction error: 0.051353\n",
      "Epoch: 0 batch #: 133  of 300 sample #: 199 reconstruction error: 0.057690\n",
      "Epoch: 0 batch #: 134  of 300 sample #: 199 reconstruction error: 0.111288\n",
      "Epoch: 0 batch #: 135  of 300 sample #: 199 reconstruction error: 0.089691\n",
      "Epoch: 0 batch #: 136  of 300 sample #: 199 reconstruction error: 0.116710\n",
      "Epoch: 0 batch #: 137  of 300 sample #: 199 reconstruction error: 0.066630\n",
      "Epoch: 0 batch #: 138  of 300 sample #: 199 reconstruction error: 0.085372\n",
      "Epoch: 0 batch #: 139  of 300 sample #: 199 reconstruction error: 0.083824\n",
      "Epoch: 0 batch #: 140  of 300 sample #: 199 reconstruction error: 0.075486\n",
      "Epoch: 0 batch #: 141  of 300 sample #: 199 reconstruction error: 0.093124\n",
      "Epoch: 0 batch #: 142  of 300 sample #: 199 reconstruction error: 0.055814\n",
      "Epoch: 0 batch #: 143  of 300 sample #: 199 reconstruction error: 0.051409\n",
      "Epoch: 0 batch #: 144  of 300 sample #: 199 reconstruction error: 0.069819\n",
      "Epoch: 0 batch #: 145  of 300 sample #: 199 reconstruction error: 0.099399\n",
      "Epoch: 0 batch #: 146  of 300 sample #: 199 reconstruction error: 0.113238\n",
      "Epoch: 0 batch #: 147  of 300 sample #: 199 reconstruction error: 0.078759\n",
      "Epoch: 0 batch #: 148  of 300 sample #: 199 reconstruction error: 0.068031\n",
      "Epoch: 0 batch #: 149  of 300 sample #: 199 reconstruction error: 0.054887\n",
      "Epoch: 0 batch #: 150  of 300 sample #: 199 reconstruction error: 0.053329\n",
      "Epoch: 0 batch #: 151  of 300 sample #: 199 reconstruction error: 0.094557\n",
      "Epoch: 0 batch #: 152  of 300 sample #: 199 reconstruction error: 0.079318\n",
      "Epoch: 0 batch #: 153  of 300 sample #: 199 reconstruction error: 0.046362\n",
      "Epoch: 0 batch #: 154  of 300 sample #: 199 reconstruction error: 0.069455\n",
      "Epoch: 0 batch #: 155  of 300 sample #: 199 reconstruction error: 0.063718\n",
      "Epoch: 0 batch #: 156  of 300 sample #: 199 reconstruction error: 0.076752\n",
      "Epoch: 0 batch #: 157  of 300 sample #: 199 reconstruction error: 0.086006\n",
      "Epoch: 0 batch #: 158  of 300 sample #: 199 reconstruction error: 0.079548\n",
      "Epoch: 0 batch #: 159  of 300 sample #: 199 reconstruction error: 0.075693\n",
      "Epoch: 0 batch #: 160  of 300 sample #: 199 reconstruction error: 0.074640\n",
      "Epoch: 0 batch #: 161  of 300 sample #: 199 reconstruction error: 0.085116\n",
      "Epoch: 0 batch #: 162  of 300 sample #: 199 reconstruction error: 0.113969\n",
      "Epoch: 0 batch #: 163  of 300 sample #: 199 reconstruction error: 0.040792\n",
      "Epoch: 0 batch #: 164  of 300 sample #: 199 reconstruction error: 0.058773\n",
      "Epoch: 0 batch #: 165  of 300 sample #: 199 reconstruction error: 0.080965\n",
      "Epoch: 0 batch #: 166  of 300 sample #: 199 reconstruction error: 0.061806\n",
      "Epoch: 0 batch #: 167  of 300 sample #: 199 reconstruction error: 0.100145\n",
      "Epoch: 0 batch #: 168  of 300 sample #: 199 reconstruction error: 0.051577\n",
      "Epoch: 0 batch #: 169  of 300 sample #: 199 reconstruction error: 0.043238\n",
      "Epoch: 0 batch #: 170  of 300 sample #: 199 reconstruction error: 0.062780\n",
      "Epoch: 0 batch #: 171  of 300 sample #: 199 reconstruction error: 0.029480\n",
      "Epoch: 0 batch #: 172  of 300 sample #: 199 reconstruction error: 0.052087\n",
      "Epoch: 0 batch #: 173  of 300 sample #: 199 reconstruction error: 0.089571\n",
      "Epoch: 0 batch #: 174  of 300 sample #: 199 reconstruction error: 0.111184\n",
      "Epoch: 0 batch #: 175  of 300 sample #: 199 reconstruction error: 0.074539\n",
      "Epoch: 0 batch #: 176  of 300 sample #: 199 reconstruction error: 0.040694\n",
      "Epoch: 0 batch #: 177  of 300 sample #: 199 reconstruction error: 0.040889\n",
      "Epoch: 0 batch #: 178  of 300 sample #: 199 reconstruction error: 0.105815\n",
      "Epoch: 0 batch #: 179  of 300 sample #: 199 reconstruction error: 0.080872\n",
      "Epoch: 0 batch #: 180  of 300 sample #: 199 reconstruction error: 0.080295\n",
      "Epoch: 0 batch #: 181  of 300 sample #: 199 reconstruction error: 0.091136\n",
      "Epoch: 0 batch #: 182  of 300 sample #: 199 reconstruction error: 0.060250\n",
      "Epoch: 0 batch #: 183  of 300 sample #: 199 reconstruction error: 0.090887\n",
      "Epoch: 0 batch #: 184  of 300 sample #: 199 reconstruction error: 0.068210\n",
      "Epoch: 0 batch #: 185  of 300 sample #: 199 reconstruction error: 0.077835\n",
      "Epoch: 0 batch #: 186  of 300 sample #: 199 reconstruction error: 0.088638\n",
      "Epoch: 0 batch #: 187  of 300 sample #: 199 reconstruction error: 0.053742\n",
      "Epoch: 0 batch #: 188  of 300 sample #: 199 reconstruction error: 0.095224\n",
      "Epoch: 0 batch #: 189  of 300 sample #: 199 reconstruction error: 0.091402\n",
      "Epoch: 0 batch #: 190  of 300 sample #: 199 reconstruction error: 0.053794\n",
      "Epoch: 0 batch #: 191  of 300 sample #: 199 reconstruction error: 0.113356\n",
      "Epoch: 0 batch #: 192  of 300 sample #: 199 reconstruction error: 0.151512\n",
      "Epoch: 0 batch #: 193  of 300 sample #: 199 reconstruction error: 0.096951\n",
      "Epoch: 0 batch #: 194  of 300 sample #: 199 reconstruction error: 0.080885\n",
      "Epoch: 0 batch #: 195  of 300 sample #: 199 reconstruction error: 0.042007\n",
      "Epoch: 0 batch #: 196  of 300 sample #: 199 reconstruction error: 0.048709\n",
      "Epoch: 0 batch #: 197  of 300 sample #: 199 reconstruction error: 0.056691\n",
      "Epoch: 0 batch #: 198  of 300 sample #: 199 reconstruction error: 0.095081\n",
      "Epoch: 0 batch #: 199  of 300 sample #: 199 reconstruction error: 0.095970\n",
      "Epoch: 0 batch #: 200  of 300 sample #: 199 reconstruction error: 0.088015\n",
      "Epoch: 0 batch #: 201  of 300 sample #: 199 reconstruction error: 0.095870\n",
      "Epoch: 0 batch #: 202  of 300 sample #: 199 reconstruction error: 0.021360\n",
      "Epoch: 0 batch #: 203  of 300 sample #: 199 reconstruction error: 0.079187\n",
      "Epoch: 0 batch #: 204  of 300 sample #: 199 reconstruction error: 0.051009\n",
      "Epoch: 0 batch #: 205  of 300 sample #: 199 reconstruction error: 0.025112\n",
      "Epoch: 0 batch #: 206  of 300 sample #: 199 reconstruction error: 0.072206\n",
      "Epoch: 0 batch #: 207  of 300 sample #: 199 reconstruction error: 0.067627\n",
      "Epoch: 0 batch #: 208  of 300 sample #: 199 reconstruction error: 0.065404\n",
      "Epoch: 0 batch #: 209  of 300 sample #: 199 reconstruction error: 0.031781\n",
      "Epoch: 0 batch #: 210  of 300 sample #: 199 reconstruction error: 0.117389\n",
      "Epoch: 0 batch #: 211  of 300 sample #: 199 reconstruction error: 0.088563\n",
      "Epoch: 0 batch #: 212  of 300 sample #: 199 reconstruction error: 0.093215\n",
      "Epoch: 0 batch #: 213  of 300 sample #: 199 reconstruction error: 0.104354\n",
      "Epoch: 0 batch #: 214  of 300 sample #: 199 reconstruction error: 0.095616\n",
      "Epoch: 0 batch #: 215  of 300 sample #: 199 reconstruction error: 0.029407\n",
      "Epoch: 0 batch #: 216  of 300 sample #: 199 reconstruction error: 0.091749\n",
      "Epoch: 0 batch #: 217  of 300 sample #: 199 reconstruction error: 0.079105\n",
      "Epoch: 0 batch #: 218  of 300 sample #: 199 reconstruction error: 0.063399\n",
      "Epoch: 0 batch #: 219  of 300 sample #: 199 reconstruction error: 0.058856\n",
      "Epoch: 0 batch #: 220  of 300 sample #: 199 reconstruction error: 0.061727\n",
      "Epoch: 0 batch #: 221  of 300 sample #: 199 reconstruction error: 0.086938\n",
      "Epoch: 0 batch #: 222  of 300 sample #: 199 reconstruction error: 0.084110\n",
      "Epoch: 0 batch #: 223  of 300 sample #: 199 reconstruction error: 0.072378\n",
      "Epoch: 0 batch #: 224  of 300 sample #: 199 reconstruction error: 0.072404\n",
      "Epoch: 0 batch #: 225  of 300 sample #: 199 reconstruction error: 0.058193\n",
      "Epoch: 0 batch #: 226  of 300 sample #: 199 reconstruction error: 0.115542\n",
      "Epoch: 0 batch #: 227  of 300 sample #: 199 reconstruction error: 0.074740\n",
      "Epoch: 0 batch #: 228  of 300 sample #: 199 reconstruction error: 0.078540\n",
      "Epoch: 0 batch #: 229  of 300 sample #: 199 reconstruction error: 0.084313\n",
      "Epoch: 0 batch #: 230  of 300 sample #: 199 reconstruction error: 0.043347\n",
      "Epoch: 0 batch #: 231  of 300 sample #: 199 reconstruction error: 0.034633\n",
      "Epoch: 0 batch #: 232  of 300 sample #: 199 reconstruction error: 0.059580\n",
      "Epoch: 0 batch #: 233  of 300 sample #: 199 reconstruction error: 0.076167\n",
      "Epoch: 0 batch #: 234  of 300 sample #: 199 reconstruction error: 0.066027\n",
      "Epoch: 0 batch #: 235  of 300 sample #: 199 reconstruction error: 0.070845\n",
      "Epoch: 0 batch #: 236  of 300 sample #: 199 reconstruction error: 0.100607\n",
      "Epoch: 0 batch #: 237  of 300 sample #: 199 reconstruction error: 0.076138\n",
      "Epoch: 0 batch #: 238  of 300 sample #: 199 reconstruction error: 0.097493\n",
      "Epoch: 0 batch #: 239  of 300 sample #: 199 reconstruction error: 0.030086\n",
      "Epoch: 0 batch #: 240  of 300 sample #: 199 reconstruction error: 0.102208\n",
      "Epoch: 0 batch #: 241  of 300 sample #: 199 reconstruction error: 0.093070\n",
      "Epoch: 0 batch #: 242  of 300 sample #: 199 reconstruction error: 0.073006\n",
      "Epoch: 0 batch #: 243  of 300 sample #: 199 reconstruction error: 0.070125\n",
      "Epoch: 0 batch #: 244  of 300 sample #: 199 reconstruction error: 0.095369\n",
      "Epoch: 0 batch #: 245  of 300 sample #: 199 reconstruction error: 0.070556\n",
      "Epoch: 0 batch #: 246  of 300 sample #: 199 reconstruction error: 0.093682\n",
      "Epoch: 0 batch #: 247  of 300 sample #: 199 reconstruction error: 0.046875\n",
      "Epoch: 0 batch #: 248  of 300 sample #: 199 reconstruction error: 0.073009\n",
      "Epoch: 0 batch #: 249  of 300 sample #: 199 reconstruction error: 0.044401\n",
      "Epoch: 0 batch #: 250  of 300 sample #: 199 reconstruction error: 0.092393\n",
      "Epoch: 0 batch #: 251  of 300 sample #: 199 reconstruction error: 0.057265\n",
      "Epoch: 0 batch #: 252  of 300 sample #: 199 reconstruction error: 0.078690\n",
      "Epoch: 0 batch #: 253  of 300 sample #: 199 reconstruction error: 0.058846\n",
      "Epoch: 0 batch #: 254  of 300 sample #: 199 reconstruction error: 0.034220\n",
      "Epoch: 0 batch #: 255  of 300 sample #: 199 reconstruction error: 0.045844\n",
      "Epoch: 0 batch #: 256  of 300 sample #: 199 reconstruction error: 0.088334\n",
      "Epoch: 0 batch #: 257  of 300 sample #: 199 reconstruction error: 0.095981\n",
      "Epoch: 0 batch #: 258  of 300 sample #: 199 reconstruction error: 0.096762\n",
      "Epoch: 0 batch #: 259  of 300 sample #: 199 reconstruction error: 0.071972\n",
      "Epoch: 0 batch #: 260  of 300 sample #: 199 reconstruction error: 0.096187\n",
      "Epoch: 0 batch #: 261  of 300 sample #: 199 reconstruction error: 0.034917\n",
      "Epoch: 0 batch #: 262  of 300 sample #: 199 reconstruction error: 0.051537\n",
      "Epoch: 0 batch #: 263  of 300 sample #: 199 reconstruction error: 0.091167\n",
      "Epoch: 0 batch #: 264  of 300 sample #: 199 reconstruction error: 0.061349\n",
      "Epoch: 0 batch #: 265  of 300 sample #: 199 reconstruction error: 0.080438\n",
      "Epoch: 0 batch #: 266  of 300 sample #: 199 reconstruction error: 0.036569\n",
      "Epoch: 0 batch #: 267  of 300 sample #: 199 reconstruction error: 0.061939\n",
      "Epoch: 0 batch #: 268  of 300 sample #: 199 reconstruction error: 0.027311\n",
      "Epoch: 0 batch #: 269  of 300 sample #: 199 reconstruction error: 0.107220\n",
      "Epoch: 0 batch #: 270  of 300 sample #: 199 reconstruction error: 0.072207\n",
      "Epoch: 0 batch #: 271  of 300 sample #: 199 reconstruction error: 0.057123\n",
      "Epoch: 0 batch #: 272  of 300 sample #: 199 reconstruction error: 0.052322\n",
      "Epoch: 0 batch #: 273  of 300 sample #: 199 reconstruction error: 0.039936\n",
      "Epoch: 0 batch #: 274  of 300 sample #: 199 reconstruction error: 0.051360\n",
      "Epoch: 0 batch #: 275  of 300 sample #: 199 reconstruction error: 0.108940\n",
      "Epoch: 0 batch #: 276  of 300 sample #: 199 reconstruction error: 0.074717\n",
      "Epoch: 0 batch #: 277  of 300 sample #: 199 reconstruction error: 0.071838\n",
      "Epoch: 0 batch #: 278  of 300 sample #: 199 reconstruction error: 0.048065\n",
      "Epoch: 0 batch #: 279  of 300 sample #: 199 reconstruction error: 0.049110\n",
      "Epoch: 0 batch #: 280  of 300 sample #: 199 reconstruction error: 0.083756\n",
      "Epoch: 0 batch #: 281  of 300 sample #: 199 reconstruction error: 0.061424\n",
      "Epoch: 0 batch #: 282  of 300 sample #: 199 reconstruction error: 0.079025\n",
      "Epoch: 0 batch #: 283  of 300 sample #: 199 reconstruction error: 0.047537\n",
      "Epoch: 0 batch #: 284  of 300 sample #: 199 reconstruction error: 0.049057\n",
      "Epoch: 0 batch #: 285  of 300 sample #: 199 reconstruction error: 0.074034\n",
      "Epoch: 0 batch #: 286  of 300 sample #: 199 reconstruction error: 0.087150\n",
      "Epoch: 0 batch #: 287  of 300 sample #: 199 reconstruction error: 0.080038\n",
      "Epoch: 0 batch #: 288  of 300 sample #: 199 reconstruction error: 0.028648\n",
      "Epoch: 0 batch #: 289  of 300 sample #: 199 reconstruction error: 0.092705\n",
      "Epoch: 0 batch #: 290  of 300 sample #: 199 reconstruction error: 0.090395\n",
      "Epoch: 0 batch #: 291  of 300 sample #: 199 reconstruction error: 0.102421\n",
      "Epoch: 0 batch #: 292  of 300 sample #: 199 reconstruction error: 0.064775\n",
      "Epoch: 0 batch #: 293  of 300 sample #: 199 reconstruction error: 0.047357\n",
      "Epoch: 0 batch #: 294  of 300 sample #: 199 reconstruction error: 0.076539\n",
      "Epoch: 0 batch #: 295  of 300 sample #: 199 reconstruction error: 0.063603\n",
      "Epoch: 0 batch #: 296  of 300 sample #: 199 reconstruction error: 0.030185\n",
      "Epoch: 0 batch #: 297  of 300 sample #: 199 reconstruction error: 0.124685\n",
      "Epoch: 0 batch #: 298  of 300 sample #: 199 reconstruction error: 0.048386\n",
      "Epoch: 0 batch #: 299  of 300 sample #: 199 reconstruction error: 0.042137\n",
      "Epoch: 0 batch #: 300  of 300 sample #: 199 reconstruction error: 0.080169\n"
     ]
    },
    {
     "name": "stderr",
     "output_type": "stream",
     "text": [
      "2024-11-23 14:10:44.310591: W tensorflow/core/framework/local_rendezvous.cc:404] Local rendezvous is aborting with status: OUT_OF_RANGE: End of sequence\n"
     ]
    },
    {
     "name": "stdout",
     "output_type": "stream",
     "text": [
      "Epoch: 1 batch #: 301  of 300 sample #: 199 reconstruction error: 0.084972\n",
      "Epoch: 1 batch #: 302  of 300 sample #: 199 reconstruction error: 0.087758\n",
      "Epoch: 1 batch #: 303  of 300 sample #: 199 reconstruction error: 0.049511\n",
      "Epoch: 1 batch #: 304  of 300 sample #: 199 reconstruction error: 0.072100\n",
      "Epoch: 1 batch #: 305  of 300 sample #: 199 reconstruction error: 0.064419\n",
      "Epoch: 1 batch #: 306  of 300 sample #: 199 reconstruction error: 0.123959\n",
      "Epoch: 1 batch #: 307  of 300 sample #: 199 reconstruction error: 0.073063\n",
      "Epoch: 1 batch #: 308  of 300 sample #: 199 reconstruction error: 0.067513\n",
      "Epoch: 1 batch #: 309  of 300 sample #: 199 reconstruction error: 0.051353\n",
      "Epoch: 1 batch #: 310  of 300 sample #: 199 reconstruction error: 0.129302\n",
      "Epoch: 1 batch #: 311  of 300 sample #: 199 reconstruction error: 0.063465\n",
      "Epoch: 1 batch #: 312  of 300 sample #: 199 reconstruction error: 0.096224\n",
      "Epoch: 1 batch #: 313  of 300 sample #: 199 reconstruction error: 0.025343\n",
      "Epoch: 1 batch #: 314  of 300 sample #: 199 reconstruction error: 0.078103\n",
      "Epoch: 1 batch #: 315  of 300 sample #: 199 reconstruction error: 0.087781\n",
      "Epoch: 1 batch #: 316  of 300 sample #: 199 reconstruction error: 0.074624\n",
      "Epoch: 1 batch #: 317  of 300 sample #: 199 reconstruction error: 0.054319\n",
      "Epoch: 1 batch #: 318  of 300 sample #: 199 reconstruction error: 0.079558\n",
      "Epoch: 1 batch #: 319  of 300 sample #: 199 reconstruction error: 0.103766\n",
      "Epoch: 1 batch #: 320  of 300 sample #: 199 reconstruction error: 0.071319\n",
      "Epoch: 1 batch #: 321  of 300 sample #: 199 reconstruction error: 0.061852\n",
      "Epoch: 1 batch #: 322  of 300 sample #: 199 reconstruction error: 0.073352\n",
      "Epoch: 1 batch #: 323  of 300 sample #: 199 reconstruction error: 0.084824\n",
      "Epoch: 1 batch #: 324  of 300 sample #: 199 reconstruction error: 0.116151\n",
      "Epoch: 1 batch #: 325  of 300 sample #: 199 reconstruction error: 0.080097\n",
      "Epoch: 1 batch #: 326  of 300 sample #: 199 reconstruction error: 0.084491\n",
      "Epoch: 1 batch #: 327  of 300 sample #: 199 reconstruction error: 0.090011\n",
      "Epoch: 1 batch #: 328  of 300 sample #: 199 reconstruction error: 0.052563\n",
      "Epoch: 1 batch #: 329  of 300 sample #: 199 reconstruction error: 0.083364\n",
      "Epoch: 1 batch #: 330  of 300 sample #: 199 reconstruction error: 0.060612\n",
      "Epoch: 1 batch #: 331  of 300 sample #: 199 reconstruction error: 0.068244\n",
      "Epoch: 1 batch #: 332  of 300 sample #: 199 reconstruction error: 0.081729\n",
      "Epoch: 1 batch #: 333  of 300 sample #: 199 reconstruction error: 0.047218\n",
      "Epoch: 1 batch #: 334  of 300 sample #: 199 reconstruction error: 0.054397\n",
      "Epoch: 1 batch #: 335  of 300 sample #: 199 reconstruction error: 0.066482\n",
      "Epoch: 1 batch #: 336  of 300 sample #: 199 reconstruction error: 0.062930\n",
      "Epoch: 1 batch #: 337  of 300 sample #: 199 reconstruction error: 0.046572\n",
      "Epoch: 1 batch #: 338  of 300 sample #: 199 reconstruction error: 0.066106\n"
     ]
    },
    {
     "ename": "KeyboardInterrupt",
     "evalue": "",
     "output_type": "error",
     "traceback": [
      "\u001b[0;31m---------------------------------------------------------------------------\u001b[0m",
      "\u001b[0;31mKeyboardInterrupt\u001b[0m                         Traceback (most recent call last)",
      "\u001b[0;32m/tmp/ipykernel_108837/1817196314.py\u001b[0m in \u001b[0;36m?\u001b[0;34m()\u001b[0m\n\u001b[1;32m      1\u001b[0m \u001b[0mrbm_mnist\u001b[0m  \u001b[0;34m=\u001b[0m \u001b[0mRBM\u001b[0m\u001b[0;34m(\u001b[0m\u001b[0;36m28\u001b[0m\u001b[0;34m*\u001b[0m\u001b[0;36m28\u001b[0m\u001b[0;34m,\u001b[0m \u001b[0;36m50\u001b[0m\u001b[0;34m)\u001b[0m\u001b[0;34m\u001b[0m\u001b[0;34m\u001b[0m\u001b[0m\n\u001b[0;32m----> 2\u001b[0;31m \u001b[0mrbm_mnist\u001b[0m\u001b[0;34m.\u001b[0m\u001b[0mtrain\u001b[0m\u001b[0;34m(\u001b[0m\u001b[0mtrain_ds\u001b[0m\u001b[0;34m,\u001b[0m \u001b[0mbatchsize\u001b[0m\u001b[0;34m=\u001b[0m\u001b[0;36m200\u001b[0m\u001b[0;34m)\u001b[0m\u001b[0;34m\u001b[0m\u001b[0;34m\u001b[0m\u001b[0m\n\u001b[0m",
      "\u001b[0;32m/tmp/ipykernel_108837/3547652596.py\u001b[0m in \u001b[0;36m?\u001b[0;34m(self, train_ds, learning_rate, epochs, batchsize)\u001b[0m\n\u001b[1;32m     46\u001b[0m \u001b[0;34m\u001b[0m\u001b[0m\n\u001b[1;32m     47\u001b[0m                             \u001b[0mdelta_vb\u001b[0m \u001b[0;34m=\u001b[0m \u001b[0mtf\u001b[0m\u001b[0;34m.\u001b[0m\u001b[0mreduce_mean\u001b[0m\u001b[0;34m(\u001b[0m\u001b[0mv0_state\u001b[0m \u001b[0;34m-\u001b[0m \u001b[0mv1_state\u001b[0m\u001b[0;34m,\u001b[0m \u001b[0maxis\u001b[0m\u001b[0;34m=\u001b[0m\u001b[0;36m0\u001b[0m\u001b[0;34m)\u001b[0m\u001b[0;34m\u001b[0m\u001b[0;34m\u001b[0m\u001b[0m\n\u001b[1;32m     48\u001b[0m                             \u001b[0mdelta_hb\u001b[0m \u001b[0;34m=\u001b[0m \u001b[0mtf\u001b[0m\u001b[0;34m.\u001b[0m\u001b[0mreduce_mean\u001b[0m\u001b[0;34m(\u001b[0m\u001b[0mh0_state\u001b[0m \u001b[0;34m-\u001b[0m \u001b[0mh1_state\u001b[0m\u001b[0;34m,\u001b[0m \u001b[0maxis\u001b[0m\u001b[0;34m=\u001b[0m\u001b[0;36m0\u001b[0m\u001b[0;34m)\u001b[0m\u001b[0;34m\u001b[0m\u001b[0;34m\u001b[0m\u001b[0m\n\u001b[1;32m     49\u001b[0m                             \u001b[0mself\u001b[0m\u001b[0;34m.\u001b[0m\u001b[0mvb\u001b[0m \u001b[0;34m=\u001b[0m \u001b[0mself\u001b[0m\u001b[0;34m.\u001b[0m\u001b[0mvb\u001b[0m \u001b[0;34m+\u001b[0m \u001b[0mlearning_rate\u001b[0m \u001b[0;34m*\u001b[0m \u001b[0mdelta_vb\u001b[0m\u001b[0;34m\u001b[0m\u001b[0;34m\u001b[0m\u001b[0m\n\u001b[0;32m---> 50\u001b[0;31m                             \u001b[0mself\u001b[0m\u001b[0;34m.\u001b[0m\u001b[0mhb\u001b[0m \u001b[0;34m=\u001b[0m \u001b[0mself\u001b[0m\u001b[0;34m.\u001b[0m\u001b[0mhb\u001b[0m \u001b[0;34m+\u001b[0m \u001b[0mlearning_rate\u001b[0m \u001b[0;34m*\u001b[0m \u001b[0mdelta_hb\u001b[0m\u001b[0;34m\u001b[0m\u001b[0;34m\u001b[0m\u001b[0m\n\u001b[0m\u001b[1;32m     51\u001b[0m \u001b[0;34m\u001b[0m\u001b[0m\n\u001b[1;32m     52\u001b[0m                             \u001b[0mv0_state\u001b[0m \u001b[0;34m=\u001b[0m \u001b[0mv1_state\u001b[0m\u001b[0;34m\u001b[0m\u001b[0;34m\u001b[0m\u001b[0m\n\u001b[1;32m     53\u001b[0m \u001b[0;34m\u001b[0m\u001b[0m\n",
      "\u001b[0;32m~/miniconda3/envs/tensortorch/lib/python3.10/site-packages/tensorflow/python/util/traceback_utils.py\u001b[0m in \u001b[0;36m?\u001b[0;34m(*args, **kwargs)\u001b[0m\n\u001b[1;32m    151\u001b[0m     \u001b[0;32mexcept\u001b[0m \u001b[0mException\u001b[0m \u001b[0;32mas\u001b[0m \u001b[0me\u001b[0m\u001b[0;34m:\u001b[0m\u001b[0;34m\u001b[0m\u001b[0;34m\u001b[0m\u001b[0m\n\u001b[1;32m    152\u001b[0m       \u001b[0mfiltered_tb\u001b[0m \u001b[0;34m=\u001b[0m \u001b[0m_process_traceback_frames\u001b[0m\u001b[0;34m(\u001b[0m\u001b[0me\u001b[0m\u001b[0;34m.\u001b[0m\u001b[0m__traceback__\u001b[0m\u001b[0;34m)\u001b[0m\u001b[0;34m\u001b[0m\u001b[0;34m\u001b[0m\u001b[0m\n\u001b[1;32m    153\u001b[0m       \u001b[0;32mraise\u001b[0m \u001b[0me\u001b[0m\u001b[0;34m.\u001b[0m\u001b[0mwith_traceback\u001b[0m\u001b[0;34m(\u001b[0m\u001b[0mfiltered_tb\u001b[0m\u001b[0;34m)\u001b[0m \u001b[0;32mfrom\u001b[0m \u001b[0;32mNone\u001b[0m\u001b[0;34m\u001b[0m\u001b[0;34m\u001b[0m\u001b[0m\n\u001b[1;32m    154\u001b[0m     \u001b[0;32mfinally\u001b[0m\u001b[0;34m:\u001b[0m\u001b[0;34m\u001b[0m\u001b[0;34m\u001b[0m\u001b[0m\n\u001b[0;32m--> 155\u001b[0;31m       \u001b[0;32mdel\u001b[0m \u001b[0mfiltered_tb\u001b[0m\u001b[0;34m\u001b[0m\u001b[0;34m\u001b[0m\u001b[0m\n\u001b[0m",
      "\u001b[0;32m~/miniconda3/envs/tensortorch/lib/python3.10/site-packages/tensorflow/python/framework/override_binary_operator.py\u001b[0m in \u001b[0;36m?\u001b[0;34m(y, x)\u001b[0m\n\u001b[1;32m    146\u001b[0m     \u001b[0;32mwith\u001b[0m \u001b[0mops\u001b[0m\u001b[0;34m.\u001b[0m\u001b[0mname_scope\u001b[0m\u001b[0;34m(\u001b[0m\u001b[0;32mNone\u001b[0m\u001b[0;34m,\u001b[0m \u001b[0mop_name\u001b[0m\u001b[0;34m,\u001b[0m \u001b[0;34m[\u001b[0m\u001b[0mx\u001b[0m\u001b[0;34m,\u001b[0m \u001b[0my\u001b[0m\u001b[0;34m]\u001b[0m\u001b[0;34m)\u001b[0m \u001b[0;32mas\u001b[0m \u001b[0mname\u001b[0m\u001b[0;34m:\u001b[0m\u001b[0;34m\u001b[0m\u001b[0;34m\u001b[0m\u001b[0m\n\u001b[1;32m    147\u001b[0m       \u001b[0;31m# TODO(b/178860388): Figure out why binary_op_wrapper and\u001b[0m\u001b[0;34m\u001b[0m\u001b[0;34m\u001b[0m\u001b[0m\n\u001b[1;32m    148\u001b[0m       \u001b[0;31m#   r_binary_op_wrapper use different force_same_dtype values.\u001b[0m\u001b[0;34m\u001b[0m\u001b[0;34m\u001b[0m\u001b[0m\n\u001b[1;32m    149\u001b[0m       \u001b[0my\u001b[0m\u001b[0;34m,\u001b[0m \u001b[0mx\u001b[0m \u001b[0;34m=\u001b[0m \u001b[0mmaybe_promote_tensors\u001b[0m\u001b[0;34m(\u001b[0m\u001b[0my\u001b[0m\u001b[0;34m,\u001b[0m \u001b[0mx\u001b[0m\u001b[0;34m,\u001b[0m \u001b[0mforce_same_dtype\u001b[0m\u001b[0;34m=\u001b[0m\u001b[0;32mTrue\u001b[0m\u001b[0;34m)\u001b[0m\u001b[0;34m\u001b[0m\u001b[0;34m\u001b[0m\u001b[0m\n\u001b[0;32m--> 150\u001b[0;31m       \u001b[0;32mreturn\u001b[0m \u001b[0mfunc\u001b[0m\u001b[0;34m(\u001b[0m\u001b[0mx\u001b[0m\u001b[0;34m,\u001b[0m \u001b[0my\u001b[0m\u001b[0;34m,\u001b[0m \u001b[0mname\u001b[0m\u001b[0;34m=\u001b[0m\u001b[0mname\u001b[0m\u001b[0;34m)\u001b[0m\u001b[0;34m\u001b[0m\u001b[0;34m\u001b[0m\u001b[0m\n\u001b[0m",
      "\u001b[0;32m~/miniconda3/envs/tensortorch/lib/python3.10/site-packages/tensorflow/python/ops/tensor_math_operator_overrides.py\u001b[0m in \u001b[0;36m?\u001b[0;34m(x, y, name)\u001b[0m\n\u001b[1;32m     61\u001b[0m \u001b[0;32mdef\u001b[0m \u001b[0m_mul_dispatch_factory\u001b[0m\u001b[0;34m(\u001b[0m\u001b[0mx\u001b[0m\u001b[0;34m,\u001b[0m \u001b[0my\u001b[0m\u001b[0;34m,\u001b[0m \u001b[0mname\u001b[0m\u001b[0;34m=\u001b[0m\u001b[0;32mNone\u001b[0m\u001b[0;34m)\u001b[0m\u001b[0;34m:\u001b[0m\u001b[0;34m\u001b[0m\u001b[0;34m\u001b[0m\u001b[0m\n\u001b[1;32m     62\u001b[0m   \u001b[0;32mfrom\u001b[0m \u001b[0mtensorflow\u001b[0m\u001b[0;34m.\u001b[0m\u001b[0mpython\u001b[0m\u001b[0;34m.\u001b[0m\u001b[0mops\u001b[0m \u001b[0;32mimport\u001b[0m \u001b[0mmath_ops\u001b[0m\u001b[0;34m\u001b[0m\u001b[0;34m\u001b[0m\u001b[0m\n\u001b[1;32m     63\u001b[0m \u001b[0;34m\u001b[0m\u001b[0m\n\u001b[0;32m---> 64\u001b[0;31m   \u001b[0;32mreturn\u001b[0m \u001b[0mmath_ops\u001b[0m\u001b[0;34m.\u001b[0m\u001b[0m_mul_dispatch\u001b[0m\u001b[0;34m(\u001b[0m\u001b[0mx\u001b[0m\u001b[0;34m,\u001b[0m \u001b[0my\u001b[0m\u001b[0;34m,\u001b[0m \u001b[0mname\u001b[0m\u001b[0;34m=\u001b[0m\u001b[0mname\u001b[0m\u001b[0;34m)\u001b[0m  \u001b[0;31m# pylint: disable=protected-access\u001b[0m\u001b[0;34m\u001b[0m\u001b[0;34m\u001b[0m\u001b[0m\n\u001b[0m",
      "\u001b[0;32m~/miniconda3/envs/tensortorch/lib/python3.10/site-packages/tensorflow/python/ops/math_ops.py\u001b[0m in \u001b[0;36m?\u001b[0;34m(x, y, name)\u001b[0m\n\u001b[1;32m   1701\u001b[0m     new_vals = gen_sparse_ops.sparse_dense_cwise_mul(y.indices, y.values,\n\u001b[1;32m   1702\u001b[0m                                                      y.dense_shape, x, name)\n\u001b[1;32m   1703\u001b[0m     \u001b[0;32mreturn\u001b[0m \u001b[0msparse_tensor\u001b[0m\u001b[0;34m.\u001b[0m\u001b[0mSparseTensor\u001b[0m\u001b[0;34m(\u001b[0m\u001b[0my\u001b[0m\u001b[0;34m.\u001b[0m\u001b[0mindices\u001b[0m\u001b[0;34m,\u001b[0m \u001b[0mnew_vals\u001b[0m\u001b[0;34m,\u001b[0m \u001b[0my\u001b[0m\u001b[0;34m.\u001b[0m\u001b[0mdense_shape\u001b[0m\u001b[0;34m)\u001b[0m\u001b[0;34m\u001b[0m\u001b[0;34m\u001b[0m\u001b[0m\n\u001b[1;32m   1704\u001b[0m   \u001b[0;32melse\u001b[0m\u001b[0;34m:\u001b[0m\u001b[0;34m\u001b[0m\u001b[0;34m\u001b[0m\u001b[0m\n\u001b[0;32m-> 1705\u001b[0;31m     \u001b[0;32mreturn\u001b[0m \u001b[0mmultiply\u001b[0m\u001b[0;34m(\u001b[0m\u001b[0mx\u001b[0m\u001b[0;34m,\u001b[0m \u001b[0my\u001b[0m\u001b[0;34m,\u001b[0m \u001b[0mname\u001b[0m\u001b[0;34m=\u001b[0m\u001b[0mname\u001b[0m\u001b[0;34m)\u001b[0m\u001b[0;34m\u001b[0m\u001b[0;34m\u001b[0m\u001b[0m\n\u001b[0m",
      "\u001b[0;32m~/miniconda3/envs/tensortorch/lib/python3.10/site-packages/tensorflow/python/ops/weak_tensor_ops.py\u001b[0m in \u001b[0;36m?\u001b[0;34m(*args, **kwargs)\u001b[0m\n\u001b[1;32m    140\u001b[0m   \u001b[0;32mdef\u001b[0m \u001b[0mwrapper\u001b[0m\u001b[0;34m(\u001b[0m\u001b[0;34m*\u001b[0m\u001b[0margs\u001b[0m\u001b[0;34m,\u001b[0m \u001b[0;34m**\u001b[0m\u001b[0mkwargs\u001b[0m\u001b[0;34m)\u001b[0m\u001b[0;34m:\u001b[0m\u001b[0;34m\u001b[0m\u001b[0;34m\u001b[0m\u001b[0m\n\u001b[1;32m    141\u001b[0m     \u001b[0;32mif\u001b[0m \u001b[0;32mnot\u001b[0m \u001b[0mops\u001b[0m\u001b[0;34m.\u001b[0m\u001b[0mis_auto_dtype_conversion_enabled\u001b[0m\u001b[0;34m(\u001b[0m\u001b[0;34m)\u001b[0m\u001b[0;34m:\u001b[0m\u001b[0;34m\u001b[0m\u001b[0;34m\u001b[0m\u001b[0m\n\u001b[0;32m--> 142\u001b[0;31m       \u001b[0;32mreturn\u001b[0m \u001b[0mop\u001b[0m\u001b[0;34m(\u001b[0m\u001b[0;34m*\u001b[0m\u001b[0margs\u001b[0m\u001b[0;34m,\u001b[0m \u001b[0;34m**\u001b[0m\u001b[0mkwargs\u001b[0m\u001b[0;34m)\u001b[0m\u001b[0;34m\u001b[0m\u001b[0;34m\u001b[0m\u001b[0m\n\u001b[0m\u001b[1;32m    143\u001b[0m     \u001b[0mbound_arguments\u001b[0m \u001b[0;34m=\u001b[0m \u001b[0msignature\u001b[0m\u001b[0;34m.\u001b[0m\u001b[0mbind\u001b[0m\u001b[0;34m(\u001b[0m\u001b[0;34m*\u001b[0m\u001b[0margs\u001b[0m\u001b[0;34m,\u001b[0m \u001b[0;34m**\u001b[0m\u001b[0mkwargs\u001b[0m\u001b[0;34m)\u001b[0m\u001b[0;34m\u001b[0m\u001b[0;34m\u001b[0m\u001b[0m\n\u001b[1;32m    144\u001b[0m     \u001b[0mbound_arguments\u001b[0m\u001b[0;34m.\u001b[0m\u001b[0mapply_defaults\u001b[0m\u001b[0;34m(\u001b[0m\u001b[0;34m)\u001b[0m\u001b[0;34m\u001b[0m\u001b[0;34m\u001b[0m\u001b[0m\n\u001b[1;32m    145\u001b[0m     \u001b[0mbound_kwargs\u001b[0m \u001b[0;34m=\u001b[0m \u001b[0mbound_arguments\u001b[0m\u001b[0;34m.\u001b[0m\u001b[0marguments\u001b[0m\u001b[0;34m\u001b[0m\u001b[0;34m\u001b[0m\u001b[0m\n",
      "\u001b[0;32m~/miniconda3/envs/tensortorch/lib/python3.10/site-packages/tensorflow/python/util/traceback_utils.py\u001b[0m in \u001b[0;36m?\u001b[0;34m(*args, **kwargs)\u001b[0m\n\u001b[1;32m    151\u001b[0m     \u001b[0;32mexcept\u001b[0m \u001b[0mException\u001b[0m \u001b[0;32mas\u001b[0m \u001b[0me\u001b[0m\u001b[0;34m:\u001b[0m\u001b[0;34m\u001b[0m\u001b[0;34m\u001b[0m\u001b[0m\n\u001b[1;32m    152\u001b[0m       \u001b[0mfiltered_tb\u001b[0m \u001b[0;34m=\u001b[0m \u001b[0m_process_traceback_frames\u001b[0m\u001b[0;34m(\u001b[0m\u001b[0me\u001b[0m\u001b[0;34m.\u001b[0m\u001b[0m__traceback__\u001b[0m\u001b[0;34m)\u001b[0m\u001b[0;34m\u001b[0m\u001b[0;34m\u001b[0m\u001b[0m\n\u001b[1;32m    153\u001b[0m       \u001b[0;32mraise\u001b[0m \u001b[0me\u001b[0m\u001b[0;34m.\u001b[0m\u001b[0mwith_traceback\u001b[0m\u001b[0;34m(\u001b[0m\u001b[0mfiltered_tb\u001b[0m\u001b[0;34m)\u001b[0m \u001b[0;32mfrom\u001b[0m \u001b[0;32mNone\u001b[0m\u001b[0;34m\u001b[0m\u001b[0;34m\u001b[0m\u001b[0m\n\u001b[1;32m    154\u001b[0m     \u001b[0;32mfinally\u001b[0m\u001b[0;34m:\u001b[0m\u001b[0;34m\u001b[0m\u001b[0;34m\u001b[0m\u001b[0m\n\u001b[0;32m--> 155\u001b[0;31m       \u001b[0;32mdel\u001b[0m \u001b[0mfiltered_tb\u001b[0m\u001b[0;34m\u001b[0m\u001b[0;34m\u001b[0m\u001b[0m\n\u001b[0m",
      "\u001b[0;32m~/miniconda3/envs/tensortorch/lib/python3.10/site-packages/tensorflow/python/util/dispatch.py\u001b[0m in \u001b[0;36m?\u001b[0;34m(*args, **kwargs)\u001b[0m\n\u001b[1;32m   1257\u001b[0m \u001b[0;34m\u001b[0m\u001b[0m\n\u001b[1;32m   1258\u001b[0m       \u001b[0;31m# Fallback dispatch system (dispatch v1):\u001b[0m\u001b[0;34m\u001b[0m\u001b[0;34m\u001b[0m\u001b[0m\n\u001b[1;32m   1259\u001b[0m       \u001b[0;32mtry\u001b[0m\u001b[0;34m:\u001b[0m\u001b[0;34m\u001b[0m\u001b[0;34m\u001b[0m\u001b[0m\n\u001b[1;32m   1260\u001b[0m         \u001b[0;32mreturn\u001b[0m \u001b[0mdispatch_target\u001b[0m\u001b[0;34m(\u001b[0m\u001b[0;34m*\u001b[0m\u001b[0margs\u001b[0m\u001b[0;34m,\u001b[0m \u001b[0;34m**\u001b[0m\u001b[0mkwargs\u001b[0m\u001b[0;34m)\u001b[0m\u001b[0;34m\u001b[0m\u001b[0;34m\u001b[0m\u001b[0m\n\u001b[0;32m-> 1261\u001b[0;31m       \u001b[0;32mexcept\u001b[0m \u001b[0;34m(\u001b[0m\u001b[0mTypeError\u001b[0m\u001b[0;34m,\u001b[0m \u001b[0mValueError\u001b[0m\u001b[0;34m)\u001b[0m\u001b[0;34m:\u001b[0m\u001b[0;34m\u001b[0m\u001b[0;34m\u001b[0m\u001b[0m\n\u001b[0m\u001b[1;32m   1262\u001b[0m         \u001b[0;31m# Note: convert_to_eager_tensor currently raises a ValueError, not a\u001b[0m\u001b[0;34m\u001b[0m\u001b[0;34m\u001b[0m\u001b[0m\n\u001b[1;32m   1263\u001b[0m         \u001b[0;31m# TypeError, when given unexpected types.  So we need to catch both.\u001b[0m\u001b[0;34m\u001b[0m\u001b[0;34m\u001b[0m\u001b[0m\n\u001b[1;32m   1264\u001b[0m         \u001b[0mresult\u001b[0m \u001b[0;34m=\u001b[0m \u001b[0mdispatch\u001b[0m\u001b[0;34m(\u001b[0m\u001b[0mop_dispatch_handler\u001b[0m\u001b[0;34m,\u001b[0m \u001b[0margs\u001b[0m\u001b[0;34m,\u001b[0m \u001b[0mkwargs\u001b[0m\u001b[0;34m)\u001b[0m\u001b[0;34m\u001b[0m\u001b[0;34m\u001b[0m\u001b[0m\n",
      "\u001b[0;32m~/miniconda3/envs/tensortorch/lib/python3.10/site-packages/tensorflow/python/ops/math_ops.py\u001b[0m in \u001b[0;36m?\u001b[0;34m(x, y, name)\u001b[0m\n\u001b[1;32m    520\u001b[0m \u001b[0;34m\u001b[0m\u001b[0m\n\u001b[1;32m    521\u001b[0m    \u001b[0;34m*\u001b[0m \u001b[0mInvalidArgumentError\u001b[0m\u001b[0;34m:\u001b[0m \u001b[0mWhen\u001b[0m\u001b[0;31m \u001b[0m\u001b[0;31m`\u001b[0m\u001b[0mx\u001b[0m\u001b[0;31m`\u001b[0m \u001b[0;32mand\u001b[0m\u001b[0;31m \u001b[0m\u001b[0;31m`\u001b[0m\u001b[0my\u001b[0m\u001b[0;31m`\u001b[0m \u001b[0mhave\u001b[0m \u001b[0mincompatible\u001b[0m \u001b[0mshapes\u001b[0m \u001b[0;32mor\u001b[0m \u001b[0mtypes\u001b[0m\u001b[0;34m.\u001b[0m\u001b[0;34m\u001b[0m\u001b[0;34m\u001b[0m\u001b[0m\n\u001b[1;32m    522\u001b[0m   \"\"\"\n\u001b[1;32m    523\u001b[0m \u001b[0;34m\u001b[0m\u001b[0m\n\u001b[0;32m--> 524\u001b[0;31m   \u001b[0;32mreturn\u001b[0m \u001b[0mgen_math_ops\u001b[0m\u001b[0;34m.\u001b[0m\u001b[0mmul\u001b[0m\u001b[0;34m(\u001b[0m\u001b[0mx\u001b[0m\u001b[0;34m,\u001b[0m \u001b[0my\u001b[0m\u001b[0;34m,\u001b[0m \u001b[0mname\u001b[0m\u001b[0;34m)\u001b[0m\u001b[0;34m\u001b[0m\u001b[0;34m\u001b[0m\u001b[0m\n\u001b[0m",
      "\u001b[0;32m~/miniconda3/envs/tensortorch/lib/python3.10/site-packages/tensorflow/python/ops/gen_math_ops.py\u001b[0m in \u001b[0;36m?\u001b[0;34m(x, y, name)\u001b[0m\n\u001b[1;32m   6825\u001b[0m         _ctx, \"Mul\", name, x, y)\n\u001b[1;32m   6826\u001b[0m       \u001b[0;32mreturn\u001b[0m \u001b[0m_result\u001b[0m\u001b[0;34m\u001b[0m\u001b[0;34m\u001b[0m\u001b[0m\n\u001b[1;32m   6827\u001b[0m     \u001b[0;32mexcept\u001b[0m \u001b[0m_core\u001b[0m\u001b[0;34m.\u001b[0m\u001b[0m_NotOkStatusException\u001b[0m \u001b[0;32mas\u001b[0m \u001b[0me\u001b[0m\u001b[0;34m:\u001b[0m\u001b[0;34m\u001b[0m\u001b[0;34m\u001b[0m\u001b[0m\n\u001b[1;32m   6828\u001b[0m       \u001b[0m_ops\u001b[0m\u001b[0;34m.\u001b[0m\u001b[0mraise_from_not_ok_status\u001b[0m\u001b[0;34m(\u001b[0m\u001b[0me\u001b[0m\u001b[0;34m,\u001b[0m \u001b[0mname\u001b[0m\u001b[0;34m)\u001b[0m\u001b[0;34m\u001b[0m\u001b[0;34m\u001b[0m\u001b[0m\n\u001b[0;32m-> 6829\u001b[0;31m     \u001b[0;32mexcept\u001b[0m \u001b[0m_core\u001b[0m\u001b[0;34m.\u001b[0m\u001b[0m_FallbackException\u001b[0m\u001b[0;34m:\u001b[0m\u001b[0;34m\u001b[0m\u001b[0;34m\u001b[0m\u001b[0m\n\u001b[0m\u001b[1;32m   6830\u001b[0m       \u001b[0;32mpass\u001b[0m\u001b[0;34m\u001b[0m\u001b[0;34m\u001b[0m\u001b[0m\n\u001b[1;32m   6831\u001b[0m     \u001b[0;32mtry\u001b[0m\u001b[0;34m:\u001b[0m\u001b[0;34m\u001b[0m\u001b[0;34m\u001b[0m\u001b[0m\n\u001b[1;32m   6832\u001b[0m       return mul_eager_fallback(\n",
      "\u001b[0;31mKeyboardInterrupt\u001b[0m: "
     ]
    }
   ],
   "source": [
    "rbm_mnist  = RBM(28*28, 50)\n",
    "rbm_mnist.train(train_ds, batchsize=200)\n"
   ]
  },
  {
   "cell_type": "code",
   "execution_count": 12,
   "id": "4bd2effe-d002-4849-bc23-919aae8c3899",
   "metadata": {},
   "outputs": [],
   "source": [
    "# rbm_mnist.save_model('mnist1.npz')"
   ]
  },
  {
   "cell_type": "code",
   "execution_count": 4,
   "id": "6b2c4209-ea43-4b4c-bc48-260389121ab8",
   "metadata": {},
   "outputs": [
    {
     "name": "stderr",
     "output_type": "stream",
     "text": [
      "2024-05-25 23:59:50.287438: I external/local_xla/xla/stream_executor/cuda/cuda_executor.cc:901] successful NUMA node read from SysFS had negative value (-1), but there must be at least one NUMA node, so returning NUMA node zero. See more at https://github.com/torvalds/linux/blob/v6.0/Documentation/ABI/testing/sysfs-bus-pci#L344-L355\n",
      "2024-05-25 23:59:50.405298: I external/local_xla/xla/stream_executor/cuda/cuda_executor.cc:901] successful NUMA node read from SysFS had negative value (-1), but there must be at least one NUMA node, so returning NUMA node zero. See more at https://github.com/torvalds/linux/blob/v6.0/Documentation/ABI/testing/sysfs-bus-pci#L344-L355\n",
      "2024-05-25 23:59:50.405685: I external/local_xla/xla/stream_executor/cuda/cuda_executor.cc:901] successful NUMA node read from SysFS had negative value (-1), but there must be at least one NUMA node, so returning NUMA node zero. See more at https://github.com/torvalds/linux/blob/v6.0/Documentation/ABI/testing/sysfs-bus-pci#L344-L355\n",
      "2024-05-25 23:59:50.410250: I external/local_xla/xla/stream_executor/cuda/cuda_executor.cc:901] successful NUMA node read from SysFS had negative value (-1), but there must be at least one NUMA node, so returning NUMA node zero. See more at https://github.com/torvalds/linux/blob/v6.0/Documentation/ABI/testing/sysfs-bus-pci#L344-L355\n",
      "2024-05-25 23:59:50.410608: I external/local_xla/xla/stream_executor/cuda/cuda_executor.cc:901] successful NUMA node read from SysFS had negative value (-1), but there must be at least one NUMA node, so returning NUMA node zero. See more at https://github.com/torvalds/linux/blob/v6.0/Documentation/ABI/testing/sysfs-bus-pci#L344-L355\n",
      "2024-05-25 23:59:50.410912: I external/local_xla/xla/stream_executor/cuda/cuda_executor.cc:901] successful NUMA node read from SysFS had negative value (-1), but there must be at least one NUMA node, so returning NUMA node zero. See more at https://github.com/torvalds/linux/blob/v6.0/Documentation/ABI/testing/sysfs-bus-pci#L344-L355\n",
      "2024-05-25 23:59:50.478521: I external/local_xla/xla/stream_executor/cuda/cuda_executor.cc:901] successful NUMA node read from SysFS had negative value (-1), but there must be at least one NUMA node, so returning NUMA node zero. See more at https://github.com/torvalds/linux/blob/v6.0/Documentation/ABI/testing/sysfs-bus-pci#L344-L355\n",
      "2024-05-25 23:59:50.478946: I external/local_xla/xla/stream_executor/cuda/cuda_executor.cc:901] successful NUMA node read from SysFS had negative value (-1), but there must be at least one NUMA node, so returning NUMA node zero. See more at https://github.com/torvalds/linux/blob/v6.0/Documentation/ABI/testing/sysfs-bus-pci#L344-L355\n",
      "2024-05-25 23:59:50.479143: I external/local_xla/xla/stream_executor/cuda/cuda_executor.cc:901] successful NUMA node read from SysFS had negative value (-1), but there must be at least one NUMA node, so returning NUMA node zero. See more at https://github.com/torvalds/linux/blob/v6.0/Documentation/ABI/testing/sysfs-bus-pci#L344-L355\n",
      "2024-05-25 23:59:50.479404: I tensorflow/core/common_runtime/gpu/gpu_device.cc:1929] Created device /job:localhost/replica:0/task:0/device:GPU:0 with 4277 MB memory:  -> device: 0, name: NVIDIA GeForce RTX 3060 Laptop GPU, pci bus id: 0000:01:00.0, compute capability: 8.6\n"
     ]
    }
   ],
   "source": [
    "rbm_mnist = RBM.load_model('mnist1.npz')"
   ]
  },
  {
   "cell_type": "code",
   "execution_count": 13,
   "id": "16ca7df0-be7f-4703-8ac9-d4d070acae05",
   "metadata": {},
   "outputs": [],
   "source": [
    "from utils import tile_raster_images\n",
    "from PIL import Image\n",
    "# image = Image.fromarray(tile_raster_images(X =W.numpy().T[10:11], img_shape=(28, 28),tile_shape=(1, 1), tile_spacing=(1, 1)))\n",
    "# ### Plot image\n",
    "# plt.rcParams['figure.figsize'] = (4.0, 4.0)\n",
    "# imgplot = plt.imshow(image)\n",
    "# imgplot.set_cmap('gray')  "
   ]
  },
  {
   "cell_type": "code",
   "execution_count": 7,
   "id": "08eaa3c3-529e-4e38-a986-393b6573bb06",
   "metadata": {},
   "outputs": [],
   "source": [
    "import csv"
   ]
  },
  {
   "cell_type": "code",
   "execution_count": 8,
   "id": "93eb6dfb-2349-4671-981c-de27e65ba1b9",
   "metadata": {},
   "outputs": [],
   "source": [
    "def read_csv_to_matrix(file_path):\n",
    "    with open(file_path, newline='') as csvfile:\n",
    "        reader = csv.reader(csvfile)\n",
    "        matrix = [list(map(int, row)) for row in reader]\n",
    "    return np.array(matrix)"
   ]
  },
  {
   "cell_type": "code",
   "execution_count": 35,
   "id": "b42da364-7e2b-4f74-acd9-490e00d764e6",
   "metadata": {},
   "outputs": [],
   "source": [
    "im1 = read_csv_to_matrix(\"matrix.csv\")"
   ]
  },
  {
   "cell_type": "code",
   "execution_count": 36,
   "id": "558f9185-aa3d-44c7-b3df-ece4ee17035d",
   "metadata": {},
   "outputs": [
    {
     "data": {
      "text/plain": [
       "dtype('int64')"
      ]
     },
     "execution_count": 36,
     "metadata": {},
     "output_type": "execute_result"
    }
   ],
   "source": [
    "im1.shape\n",
    "im1.dtype"
   ]
  },
  {
   "cell_type": "code",
   "execution_count": 37,
   "id": "f1b033c4-0c14-48da-86f9-43cc4df2ea80",
   "metadata": {},
   "outputs": [
    {
     "data": {
      "image/png": "[encoded data removed]",
      "text/plain": [
       "<Figure size 200x200 with 1 Axes>"
      ]
     },
     "metadata": {},
     "output_type": "display_data"
    }
   ],
   "source": [
    "im = Image.fromarray(tile_raster_images(X=im1.reshape(1, -1).astype(np.float64), img_shape=(28, 28),tile_shape=(1, 1), tile_spacing=(1, 1)))\n",
    "plt.rcParams['figure.figsize'] = (2.0, 2.0)\n",
    "imgplot = plt.imshow(im)\n",
    "imgplot.set_cmap('gray') "
   ]
  },
  {
   "cell_type": "code",
   "execution_count": 38,
   "id": "acf1baf9-6a25-4c8b-b1ef-eb2af8a8912c",
   "metadata": {},
   "outputs": [],
   "source": [
    "imtoin = im1.reshape(1, -1).astype(np.float32)"
   ]
  },
  {
   "cell_type": "code",
   "execution_count": 39,
   "id": "df739a82-e248-4bac-960b-37bcc559107d",
   "metadata": {},
   "outputs": [],
   "source": [
    "out1 = rbm_mnist.predict(imtoin)"
   ]
  },
  {
   "cell_type": "code",
   "execution_count": 40,
   "id": "5750c611-24ae-42eb-8b7d-a189d416673e",
   "metadata": {},
   "outputs": [
    {
     "data": {
      "text/plain": [
       "(1, 1, 784)"
      ]
     },
     "execution_count": 40,
     "metadata": {},
     "output_type": "execute_result"
    }
   ],
   "source": [
    "out1.shape"
   ]
  },
  {
   "cell_type": "code",
   "execution_count": 41,
   "id": "93c5d3e7-6927-4ad1-b6cd-ff11bc688817",
   "metadata": {},
   "outputs": [
    {
     "data": {
      "image/png": "[encoded data removed]",
      "text/plain": [
       "<Figure size 200x200 with 1 Axes>"
      ]
     },
     "metadata": {},
     "output_type": "display_data"
    }
   ],
   "source": [
    "img = Image.fromarray(tile_raster_images(X=out1[0], img_shape=(28, 28),tile_shape=(1, 1), tile_spacing=(1, 1)))\n",
    "plt.rcParams['figure.figsize'] = (2.0, 2.0)\n",
    "imgplot = plt.imshow(img)\n",
    "imgplot.set_cmap('gray') "
   ]
  },
  {
   "cell_type": "code",
   "execution_count": 22,
   "id": "a7afb992-85da-4781-8157-98ff5f852255",
   "metadata": {},
   "outputs": [
    {
     "data": {
      "image/jpeg": "[encoded data removed]",
      "image/png": "[encoded data removed]",
      "text/plain": [
       "<PIL.JpegImagePlugin.JpegImageFile image mode=RGB size=181x181>"
      ]
     },
     "execution_count": 22,
     "metadata": {},
     "output_type": "execute_result"
    }
   ],
   "source": [
    "img = Image.open('destructed3.jpg')\n",
    "img"
   ]
  },
  {
   "cell_type": "code",
   "execution_count": 23,
   "id": "cf24e104-dc09-4cc3-903b-8c1320f34646",
   "metadata": {},
   "outputs": [
    {
     "name": "stdout",
     "output_type": "stream",
     "text": [
      "(1, 784)\n"
     ]
    }
   ],
   "source": [
    "# convert the image to a 1d numpy array\n",
    "sample_case = np.array(img.convert('I').resize((28,28))).ravel().reshape((1, -1))/255.0\n",
    "print(sample_case.shape)\n",
    "sample_case = tf.cast(sample_case, dtype=tf.float32)\n",
    "\n",
    "\n"
   ]
  },
  {
   "cell_type": "code",
   "execution_count": 59,
   "id": "f723f0bb-d484-45ee-8e48-2b7fab1a36ed",
   "metadata": {},
   "outputs": [],
   "source": [
    "output = rbm_mnist.predict(sample_case)"
   ]
  },
  {
   "cell_type": "code",
   "execution_count": 60,
   "id": "41f32216-39aa-4799-a409-1a084ee40b9d",
   "metadata": {},
   "outputs": [
    {
     "data": {
      "text/plain": [
       "numpy.ndarray"
      ]
     },
     "execution_count": 60,
     "metadata": {},
     "output_type": "execute_result"
    }
   ],
   "source": [
    "type(output)"
   ]
  },
  {
   "cell_type": "code",
   "execution_count": 61,
   "id": "22c4dffc-e957-4e8d-9b8f-9b91b8386bfc",
   "metadata": {},
   "outputs": [
    {
     "data": {
      "image/png": "[encoded data removed]",
      "text/plain": [
       "<Figure size 200x200 with 1 Axes>"
      ]
     },
     "metadata": {},
     "output_type": "display_data"
    }
   ],
   "source": [
    "img = Image.fromarray(tile_raster_images(X=output[0], img_shape=(28, 28),tile_shape=(1, 1), tile_spacing=(1, 1)))\n",
    "plt.rcParams['figure.figsize'] = (2.0, 2.0)\n",
    "imgplot = plt.imshow(img)\n",
    "imgplot.set_cmap('gray') "
   ]
  },
  {
   "cell_type": "code",
   "execution_count": 43,
   "id": "ddb4fbec-9a71-4044-bc00-0552dc2e5036",
   "metadata": {},
   "outputs": [
    {
     "name": "stdout",
     "output_type": "stream",
     "text": [
      "(1, 1, 784)\n"
     ]
    }
   ],
   "source": [
    "loaded_model = RBM.load_model(\"mnist_model.npz\")\n",
    "vv1_p = loaded_model.predict(train_X[1].numpy().reshape(1, -1))\n",
    "print(vv1_p.shape)\n"
   ]
  },
  {
   "cell_type": "code",
   "execution_count": 30,
   "id": "53576ff0-029e-4faa-88fe-6f80d4fb9dd1",
   "metadata": {},
   "outputs": [
    {
     "data": {
      "image/png": "[encoded data removed]",
      "text/plain": [
       "<Figure size 200x200 with 1 Axes>"
      ]
     },
     "metadata": {},
     "output_type": "display_data"
    }
   ],
   "source": [
    "img = Image.fromarray(tile_raster_images(X=vv1_p[0], img_shape=(28, 28),tile_shape=(1, 1), tile_spacing=(1, 1)))\n",
    "plt.rcParams['figure.figsize'] = (2.0, 2.0)\n",
    "imgplot = plt.imshow(img)\n",
    "imgplot.set_cmap('gray') "
   ]
  },
  {
   "cell_type": "code",
   "execution_count": null,
   "id": "ff986348-3a4d-484f-ab1f-bb05c4aa68b8",
   "metadata": {},
   "outputs": [],
   "source": []
  }
 ],
 "metadata": {
  "kernelspec": {
   "display_name": "Python 3 (ipykernel)",
   "language": "python",
   "name": "python3"
  },
  "language_info": {
   "codemirror_mode": {
    "name": "ipython",
    "version": 3
   },
   "file_extension": ".py",
   "mimetype": "text/x-python",
   "name": "python",
   "nbconvert_exporter": "python",
   "pygments_lexer": "ipython3",
   "version": "3.10.15"
  }
 },
 "nbformat": 4,
 "nbformat_minor": 5
}
