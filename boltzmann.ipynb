{
 "cells": [
  {
   "cell_type": "code",
   "execution_count": 1,
   "id": "1174d5c6-5a71-4f50-b4a7-03839eca8f26",
   "metadata": {},
   "outputs": [],
   "source": [
    "import numpy as np \n",
    "import matplotlib.pyplot as plt"
   ]
  },
  {
   "cell_type": "code",
   "execution_count": 24,
   "id": "40a7fc62-f9d5-4626-af4e-cc268b1eb388",
   "metadata": {},
   "outputs": [],
   "source": [
    "n_visible =784\n",
    "n_hidden = 50\n",
    "hidden_bias = np.random.randn(n_hidden)\n",
    "visible_bias = np.random.randn(n_visible)\n",
    "v0_state = np.zeros(n_visible, np.float32)\n",
    "W = np.zeros((n_visible, n_hidden), np.float32)\n",
    "\n"
   ]
  },
  {
   "cell_type": "code",
   "execution_count": 37,
   "id": "07711d17-cacc-4174-85a7-6d4409229365",
   "metadata": {},
   "outputs": [
    {
     "name": "stdout",
     "output_type": "stream",
     "text": [
      "<class 'numpy.ndarray'>\n",
      "[[14]\n",
      " [38]\n",
      " [56]]\n"
     ]
    }
   ],
   "source": [
    "#temp\n",
    "a = np.array([[1, 2, 3], [5, 6, 7], [8, 9, 10]])\n",
    "b = np.array([[1], [2], [3]])\n",
    "c = np.dot(a, b)\n",
    "c = a @ b\n",
    "print(type(c))\n",
    "print(c)\n"
   ]
  },
  {
   "cell_type": "code",
   "execution_count": 49,
   "id": "12ce386e-9b0e-4c88-85ab-16cb7075e007",
   "metadata": {},
   "outputs": [],
   "source": [
    "def sigmoid(X):\n",
    "    return 1 / (1 + np.exp(X))\n",
    "def relu(X):\n",
    "    return np.maximum(X, 0)"
   ]
  },
  {
   "cell_type": "code",
   "execution_count": 55,
   "id": "451c2c46-26fa-463c-a82d-b4ee3f5c78dd",
   "metadata": {},
   "outputs": [
    {
     "name": "stdout",
     "output_type": "stream",
     "text": [
      "(1, 50)\n",
      "<class 'numpy.ndarray'>\n",
      "first 15 hidden probs:  [0.86719621 0.80286895 0.27979038 0.4629395  0.34675156]\n",
      "first 15 hidden states:[1. 1. 0. 1. 1.]\n",
      "(1, 50)\n"
     ]
    }
   ],
   "source": [
    "#computing the hidden nodes probability vector\n",
    "h0_prob = sigmoid(([v0_state] @ W) + hidden_bias); \n",
    "print(h0_prob.shape)\n",
    "print(type(h0_prob))\n",
    "print(\"first 15 hidden probs: \", h0_prob[0][:5])\n",
    "\n",
    "#return only the generated hidden states\n",
    "def hidden_layer(v0_state, W, hb):\n",
    "    h0_prob = sigmoid(([v0_state] @ W) + hb)\n",
    "    h0_state = relu(np.sign(h0_prob - np.random.uniform(low=0.0, high=1.0, size=h0_prob.shape)))\n",
    "    return h0_state\n",
    "h0_state  = hidden_layer(v0_state, W, hidden_bias)\n",
    "\n",
    "print(f'first 15 hidden states:{h0_state[0][:5]}')\n",
    "print(h0_state.shape)\n",
    "    "
   ]
  },
  {
   "cell_type": "code",
   "execution_count": 72,
   "id": "eca67d54-c32b-416d-8a98-eb46673a06b8",
   "metadata": {},
   "outputs": [],
   "source": [
    "class BoltzmannMachine:\n",
    "    def __init__(self, n_visible, n_hidden): \n",
    "        self.n_visible = n_visible\n",
    "        self.n_hidden = n_hidden\n",
    "        self.weights = np.random.randn(n_visible, n_hidden)\n",
    "        self.visible_bias = np.random.randn(n_visible)\n",
    "        self.hidden_bias = np.random.randn(n_hidden)\n",
    "        return \n",
    "    def sigmoid(self, x):\n",
    "        return np.exp(np.minimum(x, 0)) / (1 + np.exp(-np.abs(x)))\n",
    "\n",
    "    def gibbs_sampling(self, visible_data, num_iterations = 1000): \n",
    "        samples = np.zeros((num_iterations, self.n_visible))\n",
    "        visible_state = visible_data\n",
    "        for t in range(num_iterations): \n",
    "            hidden_probs = self.sigmoid(np.dot(visible_state, self.weights) + self.hidden_bias)\n",
    "            hidden_state = np.random.binomial(1, hidden_probs)\n",
    "            visible_probs = self.sigmoid(np.dot(hidden_state, self.weights.T)  + self.visible_bias)\n",
    "            visible_state = np.random.binomial(1, visible_probs) \n",
    "            samples[t] = visible_state\n",
    "        return samples \n",
    "    def train(self, data, learning_rate=0.1, num_epochs=1000):\n",
    "        for epoch in range(num_epochs):\n",
    "            data_batch = data[np.random.randint(data.shape[0])]\n",
    "            data_batch = data_batch.reshape(1,-1)\n",
    "            positive_hidden_probs = self.sigmoid(np.dot(data_batch, self.weights) + self.hidden_bias)\n",
    "            # print(self.weights.shape)\n",
    "            # print(positive_hidden_probs.shape)\n",
    "            # print(data_batch.shape)\n",
    "            positive_hidden_state = np.random.binomial(1, positive_hidden_probs)\n",
    "            positive_associations = np.dot(data_batch.T, positive_hidden_probs)\n",
    "\n",
    "            negative_visible_probs = self.sigmoid(np.dot(positive_hidden_state, self.weights.T) + self.visible_bias)\n",
    "            negative_visible_state = np.random.binomial(1, negative_visible_probs)\n",
    "            negative_hidden_probs = self.sigmoid(np.dot(negative_visible_state, self.weights) + self.hidden_bias)\n",
    "            negative_associations = np.dot(negative_visible_state.T, negative_hidden_probs)\n",
    "\n",
    "            self.weights += learning_rate * (positive_associations - negative_associations)\n",
    "            self.visible_bias += learning_rate * np.mean(data_batch - negative_visible_state, axis=0)\n",
    "            self.hidden_bias += learning_rate * np.mean(positive_hidden_state - negative_hidden_probs, axis=0)\n",
    "\n",
    "        \n",
    "        "
   ]
  },
  {
   "cell_type": "code",
   "execution_count": 15,
   "id": "ff2e8940-5327-49fb-a381-7542f0ced109",
   "metadata": {},
   "outputs": [],
   "source": [
    "visible = 4\n",
    "hidden = 3\n",
    "data = np.array([[0, 1, 1, 0],\n",
    "                 [1, 0, 1, 0], \n",
    "                 [0, 1, 0, 0],\n",
    "                 [0, 0, 1, 1]])"
   ]
  },
  {
   "cell_type": "code",
   "execution_count": 16,
   "id": "1f4d4173-995e-45dd-87c7-e1fe89dcc816",
   "metadata": {},
   "outputs": [],
   "source": [
    "bm = BoltzmannMachine(visible, hidden)\n",
    "bm.train(data)\n"
   ]
  },
  {
   "cell_type": "code",
   "execution_count": 17,
   "id": "72ed0aed-d9f1-448e-801f-d6fe5a54e49c",
   "metadata": {},
   "outputs": [
    {
     "name": "stdout",
     "output_type": "stream",
     "text": [
      "[0 1 1 0]\n"
     ]
    }
   ],
   "source": [
    "print(data[0])"
   ]
  },
  {
   "cell_type": "code",
   "execution_count": 57,
   "id": "4f800002-00f1-4a65-bebd-db53b065452e",
   "metadata": {},
   "outputs": [],
   "source": [
    "generated_samples = bm.gibbs_sampling(data[0], num_iterations=100)\n",
    "print(\"Generated Samples:\")\n",
    "print(generated_samples)"
   ]
  },
  {
   "cell_type": "code",
   "execution_count": 24,
   "id": "53317fa0-0e1f-4970-ac9d-7b6417d80e8c",
   "metadata": {},
   "outputs": [],
   "source": [
    "import tensorflow as tf\n",
    "from keras.datasets import mnist"
   ]
  },
  {
   "cell_type": "code",
   "execution_count": 27,
   "id": "257d2103-553e-4f05-97c6-d634bfdda0cc",
   "metadata": {},
   "outputs": [],
   "source": [
    "(train_X, train_y), (test_X, test_y)= mnist.load_data()"
   ]
  },
  {
   "cell_type": "code",
   "execution_count": 39,
   "id": "c1d8ebb8-aa57-4baf-8543-75ff96b26a32",
   "metadata": {},
   "outputs": [
    {
     "data": {
      "text/plain": [
       "<matplotlib.image.AxesImage at 0x787b16b8a910>"
      ]
     },
     "execution_count": 39,
     "metadata": {},
     "output_type": "execute_result"
    },
    {
     "data": {
      "image/png": "[encoded data removed]",
      "text/plain": [
       "<Figure size 640x480 with 1 Axes>"
      ]
     },
     "metadata": {},
     "output_type": "display_data"
    }
   ],
   "source": [
    "a = train_X[0]\n",
    "plt.imshow(a, cmap = \"gray\")"
   ]
  },
  {
   "cell_type": "code",
   "execution_count": 61,
   "id": "33f03323-fb99-4728-93ad-16cf436989b1",
   "metadata": {},
   "outputs": [
    {
     "name": "stdout",
     "output_type": "stream",
     "text": [
      "(60000, 784)\n",
      "(200, 784)\n"
     ]
    }
   ],
   "source": [
    "\n",
    "train_X_flattened = train_X.reshape(train_X.shape[0], -1)\n",
    "print(train_X_flattened.shape)\n",
    "y = train_X_flattened[:200]\n",
    "print(y.shape)"
   ]
  },
  {
   "cell_type": "code",
   "execution_count": 92,
   "id": "864fb03e-ad15-47bd-b895-ccad89652b16",
   "metadata": {},
   "outputs": [],
   "source": [
    "newrbm = BoltzmannMachine(28 * 28, 100)\n",
    "newrbm.train(train_X_flattened[:200])"
   ]
  },
  {
   "cell_type": "code",
   "execution_count": 105,
   "id": "0f486f52-637d-4001-9b7b-f5bc2a77c481",
   "metadata": {},
   "outputs": [],
   "source": [
    "v = newrbm.gibbs_sampling(train_X_flattened[4])"
   ]
  },
  {
   "cell_type": "code",
   "execution_count": 106,
   "id": "68143218-c834-4768-a78e-4fa5e41bedcb",
   "metadata": {},
   "outputs": [
    {
     "name": "stdout",
     "output_type": "stream",
     "text": [
      "(1000, 784)\n"
     ]
    }
   ],
   "source": [
    "print(v.shape)"
   ]
  },
  {
   "cell_type": "code",
   "execution_count": 107,
   "id": "0938a740-ffbf-4317-8dd7-cfc4e53924f2",
   "metadata": {},
   "outputs": [
    {
     "data": {
      "text/plain": [
       "<matplotlib.image.AxesImage at 0x787b1266a0d0>"
      ]
     },
     "execution_count": 107,
     "metadata": {},
     "output_type": "execute_result"
    },
    {
     "data": {
      "image/png": "[encoded data removed]",
      "text/plain": [
       "<Figure size 640x480 with 1 Axes>"
      ]
     },
     "metadata": {},
     "output_type": "display_data"
    }
   ],
   "source": [
    "plt.imshow(v[0].reshape(28, 28), cmap = \"gray\")"
   ]
  },
  {
   "cell_type": "code",
   "execution_count": null,
   "id": "0cc58c36-92e8-442a-abd8-c71975b11fc0",
   "metadata": {},
   "outputs": [],
   "source": []
  }
 ],
 "metadata": {
  "kernelspec": {
   "display_name": "Python 3 (ipykernel)",
   "language": "python",
   "name": "python3"
  },
  "language_info": {
   "codemirror_mode": {
    "name": "ipython",
    "version": 3
   },
   "file_extension": ".py",
   "mimetype": "text/x-python",
   "name": "python",
   "nbconvert_exporter": "python",
   "pygments_lexer": "ipython3",
   "version": "3.11.7"
  }
 },
 "nbformat": 4,
 "nbformat_minor": 5
}
