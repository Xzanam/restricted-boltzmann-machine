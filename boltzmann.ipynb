{
 "cells": [
  {
   "cell_type": "code",
   "execution_count": 8,
   "id": "1174d5c6-5a71-4f50-b4a7-03839eca8f26",
   "metadata": {},
   "outputs": [],
   "source": [
    "import numpy as np \n",
    "import matplotlib.pyplot as plt"
   ]
  },
  {
   "cell_type": "code",
   "execution_count": 9,
   "id": "40a7fc62-f9d5-4626-af4e-cc268b1eb388",
   "metadata": {},
   "outputs": [],
   "source": [
    "n_visible =784\n",
    "n_hidden = 50\n",
    "hidden_bias = np.random.randn(n_hidden)\n",
    "visible_bias = np.random.randn(n_visible)\n",
    "v0_state = np.zeros(n_visible, np.float32)\n",
    "W = np.zeros((n_visible, n_hidden), np.float32)\n",
    "\n"
   ]
  },
  {
   "cell_type": "code",
   "execution_count": 10,
   "id": "07711d17-cacc-4174-85a7-6d4409229365",
   "metadata": {},
   "outputs": [
    {
     "name": "stdout",
     "output_type": "stream",
     "text": [
      "<class 'numpy.ndarray'>\n",
      "[[14]\n",
      " [38]\n",
      " [56]]\n"
     ]
    }
   ],
   "source": [
    "#temp\n",
    "a = np.array([[1, 2, 3], [5, 6, 7], [8, 9, 10]])\n",
    "b = np.array([[1], [2], [3]])\n",
    "c = np.dot(a, b)\n",
    "c = a @ b\n",
    "print(type(c))\n",
    "print(c)\n"
   ]
  },
  {
   "cell_type": "code",
   "execution_count": 11,
   "id": "12ce386e-9b0e-4c88-85ab-16cb7075e007",
   "metadata": {},
   "outputs": [],
   "source": [
    "def sigmoid(X):\n",
    "    return 1 / (1 + np.exp(X))\n",
    "def relu(X):\n",
    "    return np.maximum(X, 0)"
   ]
  },
  {
   "cell_type": "code",
   "execution_count": 12,
   "id": "451c2c46-26fa-463c-a82d-b4ee3f5c78dd",
   "metadata": {},
   "outputs": [
    {
     "name": "stdout",
     "output_type": "stream",
     "text": [
      "(1, 50)\n",
      "<class 'numpy.ndarray'>\n",
      "first 15 hidden probs:  [0.87183703 0.40400225 0.47043211 0.29400841 0.92656674 0.69534431\n",
      " 0.74878808 0.46840073 0.42368491 0.47860524 0.57960838 0.29280076\n",
      " 0.47794455 0.46903236 0.07354554]\n",
      "first 15 hidden states:[1. 1. 0. 0. 1. 1. 1. 0. 0. 1. 1. 1. 1. 1. 0.]\n",
      "(50,)\n"
     ]
    }
   ],
   "source": [
    "#computing the hidden nodes probability vector\n",
    "h0_prob = sigmoid(([v0_state] @ W) + hidden_bias); \n",
    "print(h0_prob.shape)\n",
    "print(type(h0_prob))\n",
    "print(\"first 15 hidden probs: \", h0_prob[0][:15])\n",
    "\n",
    "#return only the generated hidden states\n",
    "def hidden_layer(v0_state, W, hb):\n",
    "    h0_prob = sigmoid(([v0_state] @ W) + hb)\n",
    "    h0_state = relu(np.sign(h0_prob - np.random.uniform(low=0.0, high=1.0, size=h0_prob.shape)))\n",
    "    return h0_state[0]\n",
    "h0_state  = hidden_layer(v0_state, W, hidden_bias)\n",
    "\n",
    "print(f'first 15 hidden states:{h0_state[:15]}')\n",
    "print(h0_state.shape)\n",
    "    "
   ]
  },
  {
   "cell_type": "code",
   "execution_count": 13,
   "id": "6eaa6d3c-e645-4d5c-a2f7-e93c8d1c23cb",
   "metadata": {},
   "outputs": [
    {
     "name": "stdout",
     "output_type": "stream",
     "text": [
      "(50, 784)\n",
      "hidden state shape: (50,)\n",
      "v1 state shape: (784,)\n",
      "[1. 0. 0. 1. 1.]\n"
     ]
    }
   ],
   "source": [
    "#reconstruction from hidden nodes\n",
    "def reconstructed_output(h0_state, W, vb): \n",
    "    v1_prob = sigmoid(([h0_state] @ W.T) + vb)\n",
    "    v1_state = relu(np.sign(v1_prob - np.random.uniform(low= 0.0, high = 1.0, size=v1_prob.shape)))\n",
    "    return v1_state[0]\n",
    "\n",
    "print(W.T.shape)\n",
    "v1_state = reconstructed_output(h0_state, W, visible_bias)\n",
    "print(\"hidden state shape:\" ,h0_state.shape)\n",
    "print(\"v1 state shape:\", v1_state.shape)\n",
    "print(v1_state[:5])"
   ]
  },
  {
   "cell_type": "markdown",
   "id": "2f96569f-0522-4e9b-8478-4b5ae557263f",
   "metadata": {},
   "source": [
    "<h2>Goal</h2>\n",
    " <b>Maximize the liklihood of our data being drawn from that distribution</b>\n",
    "<h2>Error Calculation</h2>\n",
    "In each epoch, the \"error\" is computed as a sum of the squared difference between step 1 and step n, i.e the difference between the original data and it's reconstruction\n",
    "<br>The Mean Square Error(MSE)\n"
   ]
  },
  {
   "cell_type": "code",
   "execution_count": 14,
   "id": "f1a2949d-4d67-46a6-9ce3-af44309d7e64",
   "metadata": {},
   "outputs": [
    {
     "name": "stdout",
     "output_type": "stream",
     "text": [
      "0.5114795918367347\n"
     ]
    }
   ],
   "source": [
    "def error(v0_state, v1_state):\n",
    "    squared_diff = np.square(v0_state - v1_state)\n",
    "    mse = np.mean(squared_diff)\n",
    "    return mse\n",
    "err = error(v0_state, v1_state)\n",
    "print(err)"
   ]
  },
  {
   "cell_type": "markdown",
   "id": "ddb3cf3a-6ad8-428c-bf8e-59f7d4397c69",
   "metadata": {},
   "source": [
    "<h2>Training the model</h2>\n",
    "In order to train the RBM, the goal is to maximize the product of probabilities assigned to all rows <b>v</b> in the training set <b>V</b>(a matrix) \n",
    "$$\\arg \\max_W \\prod_{\\mathbf{v}\\in\\mathbf{V}_T} p(\\mathbf{v})$$\n",
    "\n",
    "this is equivalent to maximizing the expectation of the log probability,\n",
    "$$\\arg\\max_W\\left[ \\mathbb{E} \\left(\\prod_{\\mathbf v\\in \\mathbf V}\\text{log} \\left(p(\\mathbf v)\\right) \\right) \\right]$$\n",
    "\n",
    "\n",
    "so the approach is to update the weights $W_{ij}$ to increase <b>p(v)</b> for all <b>v</b>, so we need to calculate the derivative\n",
    "$$\\frac{\\partial \\log p(\\mathbf v)}{\\partial W_{ij}}$$\n",
    "\n",
    "This cannot be implemented using the usual gradient descent algorithm, so another approach is used that includes: \n",
    "<ol>\n",
    "    <li>Gibbs Sampling</li>\n",
    "    <li>Contrastive Divergence</li>\n",
    "</ol>\n",
    "\n",
    "....to be added later\n"
   ]
  },
  {
   "cell_type": "markdown",
   "id": "5c40ec5b-af0e-4faf-b0ed-18f4b4bcafdb",
   "metadata": {
    "jp-MarkdownHeadingCollapsed": true
   },
   "source": [
    "<h3>Class Implementaion</h3>"
   ]
  },
  {
   "cell_type": "code",
   "execution_count": 1,
   "id": "0cf023b6-1618-4b4c-aca0-1f21a4a49433",
   "metadata": {},
   "outputs": [
    {
     "ename": "SyntaxError",
     "evalue": "incomplete input (3216169320.py, line 1)",
     "output_type": "error",
     "traceback": [
      "\u001b[0;36m  Cell \u001b[0;32mIn[1], line 1\u001b[0;36m\u001b[0m\n\u001b[0;31m    class RBM:\u001b[0m\n\u001b[0m              ^\u001b[0m\n\u001b[0;31mSyntaxError\u001b[0m\u001b[0;31m:\u001b[0m incomplete input\n"
     ]
    }
   ],
   "source": [
    "class RBM:\n",
    "    def __init__(self, n_visible,n_hidden): \n",
    "        self.n_visible = n_visible\n",
    "        self.n_hidden = n_hidden\n",
    "        "
   ]
  },
  {
   "cell_type": "code",
   "execution_count": 72,
   "id": "eca67d54-c32b-416d-8a98-eb46673a06b8",
   "metadata": {},
   "outputs": [],
   "source": [
    "#ignore this, generated by gpt\n",
    "class BoltzmannMachine:\n",
    "    def __init__(self, n_visible, n_hidden): \n",
    "        self.n_visible = n_visible\n",
    "        self.n_hidden = n_hidden\n",
    "        self.weights = np.random.randn(n_visible, n_hidden)\n",
    "        self.visible_bias = np.random.randn(n_visible)\n",
    "        self.hidden_bias = np.random.randn(n_hidden)\n",
    "        return \n",
    "    def sigmoid(self, x):\n",
    "        return np.exp(np.minimum(x, 0)) / (1 + np.exp(-np.abs(x)))\n",
    "\n",
    "    def gibbs_sampling(self, visible_data, num_iterations = 1000): \n",
    "        samples = np.zeros((num_iterations, self.n_visible))\n",
    "        visible_state = visible_data\n",
    "        for t in range(num_iterations): \n",
    "            hidden_probs = self.sigmoid(np.dot(visible_state, self.weights) + self.hidden_bias)\n",
    "            hidden_state = np.random.binomial(1, hidden_probs)\n",
    "            visible_probs = self.sigmoid(np.dot(hidden_state, self.weights.T)  + self.visible_bias)\n",
    "            visible_state = np.random.binomial(1, visible_probs) \n",
    "            samples[t] = visible_state\n",
    "        return samples \n",
    "    def train(self, data, learning_rate=0.1, num_epochs=1000):\n",
    "        for epoch in range(num_epochs):\n",
    "            data_batch = data[np.random.randint(data.shape[0])]\n",
    "            data_batch = data_batch.reshape(1,-1)\n",
    "            positive_hidden_probs = self.sigmoid(np.dot(data_batch, self.weights) + self.hidden_bias)\n",
    "            # print(self.weights.shape)\n",
    "            # print(positive_hidden_probs.shape)\n",
    "            # print(data_batch.shape)\n",
    "            positive_hidden_state = np.random.binomial(1, positive_hidden_probs)\n",
    "            positive_associations = np.dot(data_batch.T, positive_hidden_probs)\n",
    "\n",
    "            negative_visible_probs = self.sigmoid(np.dot(positive_hidden_state, self.weights.T) + self.visible_bias)\n",
    "            negative_visible_state = np.random.binomial(1, negative_visible_probs)\n",
    "            negative_hidden_probs = self.sigmoid(np.dot(negative_visible_state, self.weights) + self.hidden_bias)\n",
    "            negative_associations = np.dot(negative_visible_state.T, negative_hidden_probs)\n",
    "\n",
    "            self.weights += learning_rate * (positive_associations - negative_associations)\n",
    "            self.visible_bias += learning_rate * np.mean(data_batch - negative_visible_state, axis=0)\n",
    "            self.hidden_bias += learning_rate * np.mean(positive_hidden_state - negative_hidden_probs, axis=0)\n",
    "\n",
    "        \n",
    "        "
   ]
  },
  {
   "cell_type": "markdown",
   "id": "58ac6dc9-2638-47fc-9080-516294d3c5cf",
   "metadata": {},
   "source": [
    "<h2>Normal Implementation</h2>"
   ]
  },
  {
   "cell_type": "code",
   "execution_count": 15,
   "id": "53317fa0-0e1f-4970-ac9d-7b6417d80e8c",
   "metadata": {},
   "outputs": [],
   "source": [
    "import tensorflow as tf\n",
    "from keras.datasets import mnist"
   ]
  },
  {
   "cell_type": "code",
   "execution_count": 16,
   "id": "257d2103-553e-4f05-97c6-d634bfdda0cc",
   "metadata": {},
   "outputs": [],
   "source": [
    "(train_X, train_y), (test_X, test_y)= mnist.load_data()"
   ]
  },
  {
   "cell_type": "code",
   "execution_count": 17,
   "id": "eb4f7c40-540a-4afd-b57a-c45c59a2837b",
   "metadata": {},
   "outputs": [],
   "source": [
    "def create_batches(data, label, batch_size):\n",
    "    num_samples = len(data)\n",
    "    num_batches = num_samples // batch_size\n",
    "    if num_samples % batch_size != 0:\n",
    "        num_batches += 1\n",
    "    batches = []\n",
    "    for i in range(num_batches):\n",
    "        start_index = i * batch_size\n",
    "        end_index = min((i+1) * batch_size, num_samples)#last batch ko lagi if num_samples % batch_size != 0 \n",
    "        batch_data = data[start_index:end_index]\n",
    "        batch_label = label[start_index:end_index]\n",
    "        batches.append((batch_data, batch_label))\n",
    "    return batches"
   ]
  },
  {
   "cell_type": "code",
   "execution_count": 18,
   "id": "c1d8ebb8-aa57-4baf-8543-75ff96b26a32",
   "metadata": {},
   "outputs": [
    {
     "data": {
      "text/plain": [
       "<matplotlib.image.AxesImage at 0x7e01c9fc3a90>"
      ]
     },
     "execution_count": 18,
     "metadata": {},
     "output_type": "execute_result"
    },
    {
     "data": {
      "image/png": "[encoded data removed]",
      "text/plain": [
       "<Figure size 640x480 with 1 Axes>"
      ]
     },
     "metadata": {},
     "output_type": "display_data"
    }
   ],
   "source": [
    "a = train_X[0]\n",
    "plt.imshow(a, cmap = \"gray\")"
   ]
  },
  {
   "cell_type": "code",
   "execution_count": 19,
   "id": "4814b8fd-a907-431f-9f03-d950ad81b6b8",
   "metadata": {},
   "outputs": [
    {
     "name": "stdout",
     "output_type": "stream",
     "text": [
      "(60000, 28, 28)\n"
     ]
    }
   ],
   "source": [
    "print(train_X.shape)"
   ]
  },
  {
   "cell_type": "code",
   "execution_count": 61,
   "id": "33f03323-fb99-4728-93ad-16cf436989b1",
   "metadata": {},
   "outputs": [
    {
     "name": "stdout",
     "output_type": "stream",
     "text": [
      "(60000, 784)\n",
      "(200, 784)\n"
     ]
    }
   ],
   "source": [
    "train_X_flattened = train_X.reshape(train_X.shape[0], -1)\n",
    "print(train_X_flattened.shape)\n",
    "y = train_X_flattened[:200]\n",
    "print(y.shape)"
   ]
  },
  {
   "cell_type": "code",
   "execution_count": 20,
   "id": "0cc58c36-92e8-442a-abd8-c71975b11fc0",
   "metadata": {},
   "outputs": [],
   "source": [
    "#main training \n",
    "alpha = 0.01\n",
    "epochs = 10\n",
    "batchsize = 200\n",
    "weights = []\n",
    "errors = []\n",
    "batch_number = 0\n",
    "K = 1\n",
    "\n",
    "#creating batches \n",
    "train_ds = create_batches(train_X, train_y, batchsize)"
   ]
  },
  {
   "cell_type": "code",
   "execution_count": 27,
   "id": "b5f06e56-703f-41cf-bf3e-544711347f98",
   "metadata": {},
   "outputs": [
    {
     "name": "stdout",
     "output_type": "stream",
     "text": [
      "(200, 28, 28)\n",
      "(200,)\n"
     ]
    }
   ],
   "source": [
    "print(train_ds[0][0].shape)\n",
    "print(train_ds[0][1].shape)"
   ]
  },
  {
   "cell_type": "code",
   "execution_count": null,
   "id": "30ed45e2-fc11-4f13-9c04-05c5c52e05c1",
   "metadata": {},
   "outputs": [],
   "source": []
  }
 ],
 "metadata": {
  "kernelspec": {
   "display_name": "Python 3 (ipykernel)",
   "language": "python",
   "name": "python3"
  },
  "language_info": {
   "codemirror_mode": {
    "name": "ipython",
    "version": 3
   },
   "file_extension": ".py",
   "mimetype": "text/x-python",
   "name": "python",
   "nbconvert_exporter": "python",
   "pygments_lexer": "ipython3",
   "version": "3.11.7"
  }
 },
 "nbformat": 4,
 "nbformat_minor": 5
}
