{
 "cells": [
  {
   "cell_type": "markdown",
   "id": "594b154e-34a1-436d-9de4-e96a32d1e906",
   "metadata": {},
   "source": [
    "<h3>Introduction</h3>\n",
    "<b>Restricted Boltzmann Machine (RBM):</b>  RBMs are shallow neural nets that learn to reconstruct data by themselves in an unsupervised fashion.  \n",
    "\n",
    "\n",
    "<h4>Why are RBMs important?</h4>\n",
    "An RBM is a basic form of autoencoder.  It can automatically extract <b>meaningful</b> features from a given input.\n",
    "\n",
    "\n",
    "<h4>How does it work?</h4>\n",
    "RBM is a 2 layer neural network. Simply, RBM takes the inputs and translates those into a set of binary values that represents them in the hidden layer. Then, these numbers can be translated back to reconstruct the inputs. Through several forward and backward passes, the RBM will be trained, and a trained RBM can reveal which features are the most important ones when detecting patterns.   \n",
    "\n",
    "\n",
    "<h4>What are the applications of an RBM?</h4>\n",
    "RBM is useful for <a href='http://www.cs.utoronto.ca/~hinton/absps/netflixICML.pdf'>  Collaborative Filtering</a>, dimensionality reduction, classification, regression, feature learning, topic modeling and even <b>Deep Belief Networks</b>.\n",
    "\n",
    "<h4>Is RBM a generative or Discriminative model?</h4>\n",
    "RBM is a generative model.\n",
    "\n",
    "<b>Discriminative:</b> Consider a classification problem where we want to learn to distinguish between Sedan cars (y = 1) and SUV cars (y = 0), based on some features of cars. Given a training set, an algorithm like logistic regression tries to find a straight line, or <i>decision boundary</i>, that separates the suv and sedan.  \n",
    "\n",
    "<b>Generative:</b> looking at cars, we can build a model of what Sedan cars look like. Then, looking at SUVs, we can build a separate model of what SUV cars look like. Finally, to classify a new car, we can match the new car against the Sedan model, and match it against the SUV model, to see whether the new car looks more like the SUV or Sedan. \n",
    "\n",
    "Generative Models specify a probability distribution over a dataset of input vectors. We can carry out both supervised and unsupervised tasks with generative models:\n",
    "<ul>\n",
    "    <li>In an unsupervised task, we try to form a model for $P(x)$, where $P$ is the probability given $x$ as an input vector.</li>\n",
    "    <li>In the supervised task, we first form a model for $P(x|y)$, where $P$ is the probability of $x$ given $y$(the label for $x$). For example, if $y = 0$ indicates that a car is an SUV, and $y = 1$ indicates that a car is a sedan, then $p(x|y = 0)$ models the distribution of SUV features, and $p(x|y = 1)$ models the distribution of sedan features. If we manage to find $P(x|y)$ and $P(y)$, then we can use <b>Bayes rule</b> to estimate $P(y|x)$, because:   \n",
    "        $$p(y|x) = \\frac{p(x|y)p(y)}{p(x)}$$</li>\n",
    "</ul>\n",
    "\n"
   ]
  },
  {
   "cell_type": "markdown",
   "id": "da5267da-43dd-4881-88a4-399d507c1445",
   "metadata": {},
   "source": [
    "<a id=\"ref2\"></a>\n",
    "<h3>RBM layers</h3>\n",
    "\n",
    "An RBM has two layers. The first layer of the RBM is called the <b>visible</b> (or input layer). Imagine that our toy example, has only vectors with 7 values, so the visible layer must have $V=7$ input nodes. \n",
    "The second layer is the <b>hidden</b> layer, which has $H$ neurons in our case. Each hidden node takes on values of either 0 or 1 (i.e., $h_i = 1$ or $h_i$ = 0), with a probability that is a logistic function of the inputs it receives from the other $V$ visible units, called for example, $p(h_i = 1)$. For our toy sample, we'll use 2 nodes in the hidden layer, so $H = 2$.\n",
    "\n",
    "<center><img src=\"https://ibm.box.com/shared/static/eu26opvcefgls6vnwuo29uwp0nudmokh.png\" alt=\"RBM Model\" style=\"width: 400px;\"></center>\n"
   ]
  },
  {
   "cell_type": "markdown",
   "id": "b09936fe-28c0-48b8-aeaf-b8a8776ad3af",
   "metadata": {},
   "source": [
    "     \n",
    "\n",
    "Each node in the first layer also has a <b>bias</b>. We will denote the bias as $v_{bias}$, and this single value is shared among the $V$ visible units.\n",
    "\n",
    "The <b>bias</b> of the second is defined similarly as $h_{bias}$, and this single value among the $H$ hidden units.\n"
   ]
  },
  {
   "cell_type": "markdown",
   "id": "8e3b0cc2-5aaa-4f9a-a775-8ecd094cf5cd",
   "metadata": {},
   "source": [
    "<a id=\"ref3\"></a>\n",
    "<h3>What RBM can do after training?</h3>\n",
    "Think of RBM as a model that has been trained based on images of a dataset of many SUV and sedan cars. Also, imagine that the RBM network has only two hidden nodes, where one node encodes the weight and, and the other encodes the size.  \n",
    "In a sense, the different configurations represent different cars, where one is an SUV and the other is Sedan.  In a training process, through many forward and backward passes, the RBM adjust its weights to send a stronger signal to either the SUV node (0, 1) or the sedan node (1, 0) in the hidden layer, given the pixels of images. Now, given an SUV in hidden layer, which distribution of pixels should we expect? RBM can give you 2 things. First, it encodes your images in hidden layer. Second, it gives you the probability of observing a case, given some hidden values.\n",
    "\n",
    "\n",
    "<h3>The Inference Process</h3>\n",
    "\n",
    "RBM has two phases:\n",
    "<ul>\n",
    "    <li>Forward Pass</li>  \n",
    "    <li>Backward Pass or Reconstruction</li>\n",
    "</ul>\n",
    "\n",
    "<b>Phase 1) Forward pass:</b>  \n",
    "\n",
    "Input one training sample (one image) $\\mathbf{x}$ through all visible nodes, and pass it to all hidden nodes. Processing happens in each node in the hidden layer. This computation begins by making stochastic decisions about whether to transmit that input or not (i.e. to determine the state of each hidden layer).  First, the probability vector is computed using the input feature vector $\\mathbf{x}$, the weight matrix $\\mathbf{W}$, and the bias term $h_{bias}$, as \n",
    "\n",
    "\n",
    "$$p({h_j}|\\mathbf x)= \\sigma( \\sum_{i=1}^V W_{ij} x_i + h_{bias} )$$, \n",
    "\n",
    "where $\\sigma(z) = (1+e^{-z})^{-1}$ is the logistic function.\n",
    "\n",
    "\n",
    "So, what does $p({h_j})$ represent? It is the <b>probability distribution</b> of the hidden units. That is, RBM uses inputs $x_i$ to make predictions about hidden node activations. For example, imagine that the hidden node activation values are [0.51 0.84] for the first training item. It tells you that the conditional probability for each hidden neuron for Phase 1 is: \n",
    "\n",
    "$$p(h_{1} = 1|\\mathbf{v}) = 0.51$$\n",
    "$$p(h_{2} = 1|\\mathbf{v}) = 0.84$$\n",
    "\n",
    "As a result, for each row in the training set, vector of probabilities is generated.  In TensorFlow, this is referred to as a `tensor` with a shape of (1,2). \n",
    "\n",
    "We then turn unit $j$ with probability $p(h_{j}|\\mathbf{v})$, and turn it off with probability $1 - p(h_{j}|\\mathbf{v})$ by generating a uniform random number vector $\\mathbf{\\xi}$, and comparing it to the activation probability as \n",
    "\n",
    "<center>If $\\xi_j>p(h_{j}|\\mathbf{v})$, then $h_j=1$, else $h_j=0$.</center>\n",
    "\n",
    "\n",
    "Therefore, the conditional probability of a configuration of $\\mathbf{h}$ given $\\mathbf{v}$ (for a training sample) is:\n",
    "\n",
    "$$p(\\mathbf{h} \\mid \\mathbf{v}) = \\prod_{j=1}^H p(h_j \\mid \\mathbf{v})$$\n",
    "\n",
    "\n",
    "where $H$ is the number of hidden units.\n",
    "\n"
   ]
  },
  {
   "cell_type": "markdown",
   "id": "ed6530a0-17c5-4272-9d33-0f524d109c4c",
   "metadata": {},
   "source": [
    "<b>Phase 2) Backward Pass (Reconstruction):</b>\n",
    "The RBM reconstructs data by making several forward and backward passes between the visible and hidden layers.\n",
    "\n",
    "So, in the second phase (i.e. reconstruction phase), the samples from the hidden layer (i.e. $\\mathbf h$) becomes the input in the backward pass. The same weight matrix and visible layer biases are used to passed to the sigmoid function. The reproduced output is a reconstruction which is an approximation of the original input.\n"
   ]
  },
  {
   "cell_type": "markdown",
   "id": "7d5f2aee-b7eb-4502-8991-219f3dc59e2d",
   "metadata": {},
   "source": [
    "RBM learns a probability distribution over the input, and then, after being trained, the RBM can generate new samples from the learned probability distribution. As you know, <b>probability distribution</b>, is a mathematical function that provides the probabilities of occurrence of different possible outcomes in an experiment.\n",
    "\n",
    "The (conditional) probability distribution over the visible units v is given by\n",
    "\n",
    "$$p(\\mathbf{v} \\mid \\mathbf{h}) = \\prod_{i=1}^V p(v_i \\mid \\mathbf{h}),$$\n",
    "\n",
    "\n",
    "where,\n",
    "\n",
    "$$p(v_i \\mid \\mathbf{h}) = \\sigma\\left(\\sum_{j=1}^H W_{ji} h_j + v_{bias} \\right)$$\n",
    "\n",
    "so, given current state of hidden units and weights, what is the probability of generating [1. 0. 0. 1. 0. 0. 0.] in reconstruction phase, based on the above <b>probability distribution</b> function?\n"
   ]
  },
  {
   "cell_type": "markdown",
   "id": "8e2043f2-9561-4312-9e80-ebfca58ad612",
   "metadata": {},
   "source": [
    "### What is the objective function?\n",
    "\n",
    "<h2>Goal</h2>\n",
    " <b>Maximize the liklihood of our data being drawn from that distribution</b>\n",
    "<h2>Error Calculation</h2>\n",
    "In each epoch, the \"error\" is computed as a sum of the squared difference between step 1 and step n, i.e the difference between the original data and it's reconstruction\n",
    "<br>The Mean Square Error(MSE)\n"
   ]
  },
  {
   "cell_type": "code",
   "execution_count": 10,
   "id": "1174d5c6-5a71-4f50-b4a7-03839eca8f26",
   "metadata": {},
   "outputs": [],
   "source": [
    "import numpy as np \n",
    "import matplotlib.pyplot as plt\n",
    "import tensorflow as tf\n",
    "from keras.datasets import mnist\n",
    "from keras.layers import Flatten"
   ]
  },
  {
   "cell_type": "code",
   "execution_count": 11,
   "id": "d867c78a-00ba-4cc1-96a4-88d5b20de7b8",
   "metadata": {},
   "outputs": [],
   "source": [
    "def error(v0_state, v1_state):\n",
    "    return tf.reduce_mean(tf.square(v0_state - v1_state))"
   ]
  },
  {
   "cell_type": "markdown",
   "id": "ddb3cf3a-6ad8-428c-bf8e-59f7d4397c69",
   "metadata": {},
   "source": [
    "<h2>Training the model</h2>\n",
    "In order to train the RBM, the goal is to maximize the product of probabilities assigned to all rows <b>v</b> in the training set <b>V</b>(a matrix) \n",
    "$$\\arg \\max_W \\prod_{\\mathbf{v}\\in\\mathbf{V}_T} p(\\mathbf{v})$$\n",
    "\n",
    "this is equivalent to maximizing the expectation of the log probability,\n",
    "$$\\arg\\max_W\\left[ \\mathbb{E} \\left(\\prod_{\\mathbf v\\in \\mathbf V}\\text{log} \\left(p(\\mathbf v)\\right) \\right) \\right]$$\n",
    "\n",
    "\n",
    "so the approach is to update the weights $W_{ij}$ to increase <b>p(v)</b> for all <b>v</b>, so we need to calculate the derivative\n",
    "$$\\frac{\\partial \\log p(\\mathbf v)}{\\partial W_{ij}}$$\n",
    "\n",
    "This cannot be implemented using the usual gradient descent algorithm, so another approach is used that includes: \n",
    "<ol>\n",
    "    <li>Gibbs Sampling</li>\n",
    "    <li>Contrastive Divergence</li>\n",
    "</ol>\n",
    "\n",
    "<h4>Gibbs Sampling Step 1</h4> \n",
    "Given an input vector $\\mathbf{v}$, we are using $p(\\mathbf{h}|\\mathbf{v})$ to predict the hidden values $\\mathbf{h}$. \n",
    "  $$p({h_j}|\\mathbf v)= \\sigma\\left(\\sum_{i=1}^V W_{ij} v_i + h_{bias} \\right)$$\n",
    "The samples are generated from this distribution by generating the uniform random variate vector $\\mathbf{\\xi} \\sim U[0,1]$ of length $H$ and comparing to the computed probabilities as\n",
    "\n",
    "\n",
    "<center>If $\\xi_j>p(h_{j}|\\mathbf{v})$, then $h_j=1$, else $h_j=0$.</center>\n",
    "\n",
    "\n",
    "<h4>Gibbs Sampling Step 2</h4> \n",
    "Then, knowing the hidden values, we use $p(\\mathbf v| \\mathbf h)$ for reconstructing of new input values v. \n",
    "\n",
    "   $$p({v_i}|\\mathbf h)= \\sigma\\left(\\sum_{j=1}^H W^{T}_{ij} h_j + v_{bias} \\right)$$\n",
    "\n",
    "\n",
    "The samples are generated from this distribution by generating a uniform random variate vector $\\mathbf{\\xi} \\sim U[0,1]$ of length $V$ and comparing to the computed probabilities as\n",
    "\n",
    "<center>If $\\xi_i>p(v_{i}|\\mathbf{h})$, then $v_i=1$, else $v_i=0$.</center>\n",
    "\n",
    "Let vectors $\\mathbf v_k$ and $\\mathbf h_k$ be for the $k$th iteration.  In general, the $kth$ state is generrated as: \n",
    "\n",
    "\n",
    "    \n",
    "<b>Iteration</b> $k$: \n",
    "\n",
    "$$\\mathbf v_{k-1} \\Rightarrow p(\\mathbf h_{k-1}|\\mathbf v_{k-1})\\Rightarrow \\mathbf h_{k-1}\\Rightarrow p(\\mathbf v_{k}|\\mathbf h_{k-1})\\Rightarrow \\mathbf v_k$$       \n",
    "    \n",
    "<h3>Contrastive Divergence (CD-k)</h3>\n",
    "The update of the weight matrix is done during the Contrastive Divergence step. \n",
    "\n",
    "Vectors v0 and vk are used to calculate the activation probabilities for hidden values h0 and hk. The difference between the outer products of those probabilities with input vectors v0 and vk results in the update matrix:\n",
    "\n",
    "\n",
    "$$\\Delta \\mathbf W_k =\\mathbf v_k \\otimes \\mathbf h_k - \\mathbf v_{k-1} \\otimes \\mathbf h_{k-1}$$\n",
    "\n",
    "Contrastive Divergence is actually matrix of values that is computed and used to adjust values of the $\\mathbf W$ matrix. Changing $\\mathbf W$ incrementally leads to training of the  $\\mathbf W$ values. Then, on each step (epoch), $\\mathbf W$ is updated using the following:\n",
    "\n",
    "$$\\mathbf W_k = \\mathbf W_{k-1} + \\alpha * \\Delta \\mathbf W_k$$"
   ]
  },
  {
   "cell_type": "code",
   "execution_count": 12,
   "id": "257d2103-553e-4f05-97c6-d634bfdda0cc",
   "metadata": {
    "scrolled": true
   },
   "outputs": [
    {
     "name": "stderr",
     "output_type": "stream",
     "text": [
      "2024-11-23 14:07:22.287232: I external/local_xla/xla/stream_executor/cuda/cuda_executor.cc:998] successful NUMA node read from SysFS had negative value (-1), but there must be at least one NUMA node, so returning NUMA node zero. See more at https://github.com/torvalds/linux/blob/v6.0/Documentation/ABI/testing/sysfs-bus-pci#L344-L355\n",
      "2024-11-23 14:07:22.408749: I external/local_xla/xla/stream_executor/cuda/cuda_executor.cc:998] successful NUMA node read from SysFS had negative value (-1), but there must be at least one NUMA node, so returning NUMA node zero. See more at https://github.com/torvalds/linux/blob/v6.0/Documentation/ABI/testing/sysfs-bus-pci#L344-L355\n",
      "2024-11-23 14:07:22.412052: I external/local_xla/xla/stream_executor/cuda/cuda_executor.cc:998] successful NUMA node read from SysFS had negative value (-1), but there must be at least one NUMA node, so returning NUMA node zero. See more at https://github.com/torvalds/linux/blob/v6.0/Documentation/ABI/testing/sysfs-bus-pci#L344-L355\n",
      "2024-11-23 14:07:22.417321: I external/local_xla/xla/stream_executor/cuda/cuda_executor.cc:998] successful NUMA node read from SysFS had negative value (-1), but there must be at least one NUMA node, so returning NUMA node zero. See more at https://github.com/torvalds/linux/blob/v6.0/Documentation/ABI/testing/sysfs-bus-pci#L344-L355\n",
      "2024-11-23 14:07:22.420493: I external/local_xla/xla/stream_executor/cuda/cuda_executor.cc:998] successful NUMA node read from SysFS had negative value (-1), but there must be at least one NUMA node, so returning NUMA node zero. See more at https://github.com/torvalds/linux/blob/v6.0/Documentation/ABI/testing/sysfs-bus-pci#L344-L355\n",
      "2024-11-23 14:07:22.423507: I external/local_xla/xla/stream_executor/cuda/cuda_executor.cc:998] successful NUMA node read from SysFS had negative value (-1), but there must be at least one NUMA node, so returning NUMA node zero. See more at https://github.com/torvalds/linux/blob/v6.0/Documentation/ABI/testing/sysfs-bus-pci#L344-L355\n",
      "2024-11-23 14:07:22.602315: I external/local_xla/xla/stream_executor/cuda/cuda_executor.cc:998] successful NUMA node read from SysFS had negative value (-1), but there must be at least one NUMA node, so returning NUMA node zero. See more at https://github.com/torvalds/linux/blob/v6.0/Documentation/ABI/testing/sysfs-bus-pci#L344-L355\n",
      "2024-11-23 14:07:22.604258: I external/local_xla/xla/stream_executor/cuda/cuda_executor.cc:998] successful NUMA node read from SysFS had negative value (-1), but there must be at least one NUMA node, so returning NUMA node zero. See more at https://github.com/torvalds/linux/blob/v6.0/Documentation/ABI/testing/sysfs-bus-pci#L344-L355\n",
      "2024-11-23 14:07:22.605974: I external/local_xla/xla/stream_executor/cuda/cuda_executor.cc:998] successful NUMA node read from SysFS had negative value (-1), but there must be at least one NUMA node, so returning NUMA node zero. See more at https://github.com/torvalds/linux/blob/v6.0/Documentation/ABI/testing/sysfs-bus-pci#L344-L355\n",
      "2024-11-23 14:07:22.607492: I tensorflow/core/common_runtime/gpu/gpu_device.cc:1928] Created device /job:localhost/replica:0/task:0/device:GPU:0 with 4166 MB memory:  -> device: 0, name: NVIDIA GeForce RTX 3060 Laptop GPU, pci bus id: 0000:01:00.0, compute capability: 8.6\n",
      "2024-11-23 14:07:22.612580: W external/local_tsl/tsl/framework/cpu_allocator_impl.cc:83] Allocation of 376320000 exceeds 10% of free system memory.\n"
     ]
    }
   ],
   "source": [
    "(train_X, train_y), (test_X, test_y)= mnist.load_data()\n",
    "flatten = Flatten(dtype='float32')\n",
    "train_X = flatten(train_X/ 255.0)\n",
    "train_y = flatten(train_y/255.0)"
   ]
  },
  {
   "cell_type": "code",
   "execution_count": 13,
   "id": "eb4f7c40-540a-4afd-b57a-c45c59a2837b",
   "metadata": {},
   "outputs": [],
   "source": [
    "def create_batches(data, label, batch_size):\n",
    "    num_samples = len(data)\n",
    "    num_batches = num_samples // batch_size\n",
    "    if num_samples % batch_size != 0:\n",
    "        num_batches += 1\n",
    "    batches = []\n",
    "    for i in range(num_batches):\n",
    "        start_index = i * batch_size\n",
    "        end_index = min((i+1) * batch_size, num_samples)#last batch ko lagi if num_samples % batch_size != 0 \n",
    "        batch_data = data[start_index:end_index]\n",
    "        batch_label = label[start_index:end_index]\n",
    "        batches.append((batch_data, batch_label))\n",
    "    return batches"
   ]
  },
  {
   "cell_type": "code",
   "execution_count": 14,
   "id": "c1d8ebb8-aa57-4baf-8543-75ff96b26a32",
   "metadata": {},
   "outputs": [
    {
     "data": {
      "text/plain": [
       "<matplotlib.image.AxesImage at 0x76760d107310>"
      ]
     },
     "execution_count": 14,
     "metadata": {},
     "output_type": "execute_result"
    },
    {
     "data": {
      "image/png": "[encoded data removed]",
      "text/plain": [
       "<Figure size 400x400 with 1 Axes>"
      ]
     },
     "metadata": {},
     "output_type": "display_data"
    }
   ],
   "source": [
    "a = train_X[0].numpy().reshape(28, 28)\n",
    "plt.rcParams['figure.figsize'] = (4.0, 4.0)\n",
    "plt.imshow(a, cmap = \"gray\")"
   ]
  },
  {
   "cell_type": "code",
   "execution_count": 15,
   "id": "4814b8fd-a907-431f-9f03-d950ad81b6b8",
   "metadata": {},
   "outputs": [
    {
     "name": "stdout",
     "output_type": "stream",
     "text": [
      "(60000, 784)\n"
     ]
    }
   ],
   "source": [
    "print(train_X.shape)"
   ]
  },
  {
   "cell_type": "code",
   "execution_count": 26,
   "id": "d16efd63-fc6d-4d0f-a6da-5a25673a8a2a",
   "metadata": {},
   "outputs": [],
   "source": [
    "from tqdm import tqdm  # Import tqdm for progress bars\n",
    "\n",
    "class RBM:\n",
    "    def __init__(self, n_visible, n_hidden): \n",
    "        self.n_visible = n_visible\n",
    "        self.n_hidden = n_hidden\n",
    "        self.v0_state = tf.Variable(tf.zeros([n_visible]), tf.float32)\n",
    "        self.h0_state = tf.Variable(tf.zeros([n_hidden]), tf.float32)\n",
    "        self.hb = tf.Variable(tf.zeros([n_hidden]), tf.float32)\n",
    "        self.vb = tf.Variable(tf.zeros([n_visible]), tf.float32)\n",
    "        self.W = tf.Variable(tf.zeros([n_visible, n_hidden]), tf.float32)\n",
    "        self.errors = []\n",
    "        self.weights = []\n",
    "\n",
    "    def hidden_layer(self, v_state):\n",
    "        h_prob = tf.nn.sigmoid(tf.matmul([v_state], self.W) + self.hb) \n",
    "        h_state = tf.nn.relu(tf.sign(h_prob - tf.random.uniform(tf.shape(h_prob)))) \n",
    "        return h_state\n",
    "\n",
    "    def reconstructed_output(self, h_state):\n",
    "        v_prob = tf.nn.sigmoid(tf.matmul(h_state, tf.transpose(self.W)) + self.vb) \n",
    "        v_state = tf.nn.relu(tf.sign(v_prob - tf.random.uniform(tf.shape(v_prob))))\n",
    "        return v_state[0]\n",
    "\n",
    "    def predict_reconstruct(self, h_state):\n",
    "        v_prob = tf.nn.sigmoid(tf.matmul(h_state, tf.transpose(self.W)) + self.vb)\n",
    "        return v_prob\n",
    "\n",
    "    def error(self, v0_state, v1_state):\n",
    "        return tf.reduce_mean(tf.square(v0_state - v1_state))\n",
    "\n",
    "    def train(self, train_ds, learning_rate=0.01, epochs=5, batchsize=32):\n",
    "        batch_number = 0\n",
    "        K = 1  # Set K to 1 for now\n",
    "        \n",
    "        # Loop through epochs\n",
    "        for epoch in range(epochs):\n",
    "            # Using tqdm to show progress for each epoch\n",
    "            with tqdm(train_ds, total=len(train_ds)) as pbar:\n",
    "                for batch_x, batch_y in pbar: \n",
    "                    batch_number += 1\n",
    "                    for i_sample in range(batchsize):\n",
    "                        for k in range(K):\n",
    "                            v0_state = batch_x[i_sample]\n",
    "                            h0_state = self.hidden_layer(v0_state)\n",
    "                            v1_state = self.reconstructed_output(h0_state)\n",
    "                            h1_state = self.hidden_layer(v1_state)\n",
    "\n",
    "                            delta_W = tf.matmul(tf.transpose([v0_state]), h0_state) - tf.matmul(tf.transpose([v1_state]), h1_state)\n",
    "                            self.W = self.W + learning_rate * delta_W\n",
    "                        \n",
    "                            delta_vb = tf.reduce_mean(v0_state - v1_state, axis=0)\n",
    "                            delta_hb = tf.reduce_mean(h0_state - h1_state, axis=0) \n",
    "                            self.vb = self.vb + learning_rate * delta_vb\n",
    "                            self.hb = self.hb + learning_rate * delta_hb\n",
    "                            \n",
    "                            v0_state = v1_state\n",
    "\n",
    "                    if i_sample == batchsize - 1:\n",
    "                        err = self.error(batch_x[i_sample], v1_state)\n",
    "                        self.errors.append(err)\n",
    "                        self.weights.append(self.W)\n",
    "                        # Update the progress bar description\n",
    "                        pbar.set_postfix({'epoch': epoch + 1, 'error': f'{err:.6f}'})\n",
    "\n",
    "            # Print summary after each epoch\n",
    "            print(f'Epoch {epoch+1}/{epochs} completed. Final reconstruction error: {err:.6f}')\n",
    "    \n",
    "    def save_model(self, filepath):\n",
    "        variables = { 'W':self.W.numpy(), \n",
    "                     'vb':self.vb.numpy(), \n",
    "                     'hb':self.hb.numpy()}\n",
    "        np.savez(filepath, **variables)\n",
    "\n",
    "    def plot_error(self):\n",
    "        plt.plot(self.errors)\n",
    "        plt.xlabel(\"Batch Number\")\n",
    "        plt.ylabel(\"Error\")\n",
    "        plt.title(\"Reconstruction Error Over Time\")\n",
    "        plt.show()\n",
    "\n",
    "    @classmethod\n",
    "    def load_model(cls, filepath):\n",
    "        data = np.load(filepath)\n",
    "        model = cls(data['W'].shape[0], data['W'].shape[1])\n",
    "        model.W.assign(data['W'])\n",
    "        model.vb.assign(data['vb'])\n",
    "        model.hb.assign(data['hb'])\n",
    "        return model \n",
    "    \n",
    "    def predict(self, input_data):\n",
    "        reconstructed_data = []\n",
    "        for sample in input_data:\n",
    "            v0_state = sample\n",
    "            h0_state = self.hidden_layer(v0_state)\n",
    "            v1_state = self.predict_reconstruct(h0_state)\n",
    "            v0_state = v1_state\n",
    "            reconstructed_data.append(v1_state.numpy())\n",
    "        return np.array(reconstructed_data)\n"
   ]
  },
  {
   "cell_type": "code",
   "execution_count": 27,
   "id": "870677c8-27d8-4771-9d64-8c6e9ee7fa51",
   "metadata": {},
   "outputs": [],
   "source": [
    "train_ds = \\\n",
    "    tf.data.Dataset.from_tensor_slices((train_X, train_y)).batch(200).prefetch(tf.data.experimental.AUTOTUNE)"
   ]
  },
  {
   "cell_type": "code",
   "execution_count": 28,
   "id": "09aa7e62-dbc8-43a6-b309-bb44b30282a1",
   "metadata": {},
   "outputs": [
    {
     "name": "stderr",
     "output_type": "stream",
     "text": [
      "100%|██████████████████████████████| 300/300 [02:19<00:00,  2.16it/s, epoch=1, error=0.068944]2024-11-23 14:16:08.383988: W tensorflow/core/framework/local_rendezvous.cc:404] Local rendezvous is aborting with status: OUT_OF_RANGE: End of sequence\n",
      "100%|██████████████████████████████| 300/300 [02:19<00:00,  2.16it/s, epoch=1, error=0.068944]\n"
     ]
    },
    {
     "name": "stdout",
     "output_type": "stream",
     "text": [
      "Epoch 1/5 completed. Final reconstruction error: 0.068944\n"
     ]
    },
    {
     "name": "stderr",
     "output_type": "stream",
     "text": [
      "100%|██████████████████████████████| 300/300 [02:21<00:00,  2.15it/s, epoch=2, error=0.064502]2024-11-23 14:18:29.500477: W tensorflow/core/framework/local_rendezvous.cc:404] Local rendezvous is aborting with status: OUT_OF_RANGE: End of sequence\n",
      "100%|██████████████████████████████| 300/300 [02:21<00:00,  2.13it/s, epoch=2, error=0.064502]\n"
     ]
    },
    {
     "name": "stdout",
     "output_type": "stream",
     "text": [
      "Epoch 2/5 completed. Final reconstruction error: 0.064502\n"
     ]
    },
    {
     "name": "stderr",
     "output_type": "stream",
     "text": [
      "100%|██████████████████████████████| 300/300 [02:22<00:00,  2.09it/s, epoch=3, error=0.078338]2024-11-23 14:20:51.907804: W tensorflow/core/framework/local_rendezvous.cc:404] Local rendezvous is aborting with status: OUT_OF_RANGE: End of sequence\n",
      "100%|██████████████████████████████| 300/300 [02:22<00:00,  2.11it/s, epoch=3, error=0.078338]\n"
     ]
    },
    {
     "name": "stdout",
     "output_type": "stream",
     "text": [
      "Epoch 3/5 completed. Final reconstruction error: 0.078338\n"
     ]
    },
    {
     "name": "stderr",
     "output_type": "stream",
     "text": [
      "100%|██████████████████████████████| 300/300 [02:23<00:00,  2.15it/s, epoch=4, error=0.055694]2024-11-23 14:23:15.504700: W tensorflow/core/framework/local_rendezvous.cc:404] Local rendezvous is aborting with status: OUT_OF_RANGE: End of sequence\n",
      "100%|██████████████████████████████| 300/300 [02:23<00:00,  2.09it/s, epoch=4, error=0.055694]\n"
     ]
    },
    {
     "name": "stdout",
     "output_type": "stream",
     "text": [
      "Epoch 4/5 completed. Final reconstruction error: 0.055694\n"
     ]
    },
    {
     "name": "stderr",
     "output_type": "stream",
     "text": [
      "100%|██████████████████████████████| 300/300 [02:24<00:00,  1.99it/s, epoch=5, error=0.088627]2024-11-23 14:25:40.286310: W tensorflow/core/framework/local_rendezvous.cc:404] Local rendezvous is aborting with status: OUT_OF_RANGE: End of sequence\n",
      "100%|██████████████████████████████| 300/300 [02:24<00:00,  2.07it/s, epoch=5, error=0.088627]"
     ]
    },
    {
     "name": "stdout",
     "output_type": "stream",
     "text": [
      "Epoch 5/5 completed. Final reconstruction error: 0.088627\n"
     ]
    },
    {
     "name": "stderr",
     "output_type": "stream",
     "text": [
      "\n"
     ]
    }
   ],
   "source": [
    "rbm_mnist  = RBM(28*28, 50)\n",
    "rbm_mnist.train(train_ds, batchsize=200)\n"
   ]
  },
  {
   "cell_type": "code",
   "execution_count": 47,
   "id": "4bd2effe-d002-4849-bc23-919aae8c3899",
   "metadata": {},
   "outputs": [],
   "source": [
    "# rbm_mnist.save_model('mnist1.npz')"
   ]
  },
  {
   "cell_type": "code",
   "execution_count": 66,
   "id": "6b2c4209-ea43-4b4c-bc48-260389121ab8",
   "metadata": {},
   "outputs": [],
   "source": [
    "rbm_mnist = RBM.load_model('mnist_model1.npz')"
   ]
  },
  {
   "cell_type": "code",
   "execution_count": 67,
   "id": "16ca7df0-be7f-4703-8ac9-d4d070acae05",
   "metadata": {},
   "outputs": [],
   "source": [
    "from utils import tile_raster_images\n",
    "from PIL import Image\n",
    "# image = Image.fromarray(tile_raster_images(X =W.numpy().T[10:11], img_shape=(28, 28),tile_shape=(1, 1), tile_spacing=(1, 1)))\n",
    "# ### Plot image\n",
    "# plt.rcParams['figure.figsize'] = (4.0, 4.0)\n",
    "# imgplot = plt.imshow(image)\n",
    "# imgplot.set_cmap('gray')  "
   ]
  },
  {
   "cell_type": "code",
   "execution_count": 68,
   "id": "08eaa3c3-529e-4e38-a986-393b6573bb06",
   "metadata": {},
   "outputs": [],
   "source": [
    "import csv"
   ]
  },
  {
   "cell_type": "code",
   "execution_count": 69,
   "id": "93eb6dfb-2349-4671-981c-de27e65ba1b9",
   "metadata": {},
   "outputs": [],
   "source": [
    "def read_csv_to_matrix(file_path):\n",
    "    with open(file_path, newline='') as csvfile:\n",
    "        reader = csv.reader(csvfile)\n",
    "        matrix = [list(map(int, row)) for row in reader]\n",
    "    return np.array(matrix)"
   ]
  },
  {
   "cell_type": "code",
   "execution_count": 70,
   "id": "b42da364-7e2b-4f74-acd9-490e00d764e6",
   "metadata": {},
   "outputs": [],
   "source": [
    "im1 = read_csv_to_matrix(\"matrix.csv\")"
   ]
  },
  {
   "cell_type": "code",
   "execution_count": 71,
   "id": "558f9185-aa3d-44c7-b3df-ece4ee17035d",
   "metadata": {},
   "outputs": [
    {
     "data": {
      "text/plain": [
       "dtype('int64')"
      ]
     },
     "execution_count": 71,
     "metadata": {},
     "output_type": "execute_result"
    }
   ],
   "source": [
    "im1.shape\n",
    "im1.dtype"
   ]
  },
  {
   "cell_type": "code",
   "execution_count": 72,
   "id": "f1b033c4-0c14-48da-86f9-43cc4df2ea80",
   "metadata": {},
   "outputs": [
    {
     "data": {
      "image/png": "[encoded data removed]",
      "text/plain": [
       "<Figure size 200x200 with 1 Axes>"
      ]
     },
     "metadata": {},
     "output_type": "display_data"
    }
   ],
   "source": [
    "im = Image.fromarray(tile_raster_images(X=im1.reshape(1, -1).astype(np.float64), img_shape=(28, 28),tile_shape=(1, 1), tile_spacing=(1, 1)))\n",
    "plt.rcParams['figure.figsize'] = (2.0, 2.0)\n",
    "imgplot = plt.imshow(im)\n",
    "imgplot.set_cmap('gray') "
   ]
  },
  {
   "cell_type": "code",
   "execution_count": 73,
   "id": "acf1baf9-6a25-4c8b-b1ef-eb2af8a8912c",
   "metadata": {},
   "outputs": [],
   "source": [
    "imtoin = im1.reshape(1, -1).astype(np.float32)"
   ]
  },
  {
   "cell_type": "code",
   "execution_count": 74,
   "id": "df739a82-e248-4bac-960b-37bcc559107d",
   "metadata": {},
   "outputs": [],
   "source": [
    "out1 = rbm_mnist.predict(imtoin)"
   ]
  },
  {
   "cell_type": "code",
   "execution_count": 75,
   "id": "5750c611-24ae-42eb-8b7d-a189d416673e",
   "metadata": {},
   "outputs": [
    {
     "data": {
      "text/plain": [
       "(1, 1, 784)"
      ]
     },
     "execution_count": 75,
     "metadata": {},
     "output_type": "execute_result"
    }
   ],
   "source": [
    "out1.shape"
   ]
  },
  {
   "cell_type": "code",
   "execution_count": 76,
   "id": "93c5d3e7-6927-4ad1-b6cd-ff11bc688817",
   "metadata": {},
   "outputs": [
    {
     "data": {
      "image/png": "[encoded data removed]",
      "text/plain": [
       "<Figure size 200x200 with 1 Axes>"
      ]
     },
     "metadata": {},
     "output_type": "display_data"
    }
   ],
   "source": [
    "img = Image.fromarray(tile_raster_images(X=out1[0], img_shape=(28, 28),tile_shape=(1, 1), tile_spacing=(1, 1)))\n",
    "plt.rcParams['figure.figsize'] = (2.0, 2.0)\n",
    "imgplot = plt.imshow(img)\n",
    "imgplot.set_cmap('gray') "
   ]
  },
  {
   "cell_type": "code",
   "execution_count": 77,
   "id": "a7afb992-85da-4781-8157-98ff5f852255",
   "metadata": {},
   "outputs": [
    {
     "data": {
      "image/jpeg": "[encoded data removed]",
      "image/png": "[encoded data removed]",
      "text/plain": [
       "<PIL.JpegImagePlugin.JpegImageFile image mode=RGB size=181x181>"
      ]
     },
     "execution_count": 77,
     "metadata": {},
     "output_type": "execute_result"
    }
   ],
   "source": [
    "img = Image.open('destructed3.jpg')\n",
    "img"
   ]
  },
  {
   "cell_type": "code",
   "execution_count": 78,
   "id": "cf24e104-dc09-4cc3-903b-8c1320f34646",
   "metadata": {},
   "outputs": [
    {
     "name": "stdout",
     "output_type": "stream",
     "text": [
      "(1, 784)\n"
     ]
    }
   ],
   "source": [
    "# convert the image to a 1d numpy array\n",
    "sample_case = np.array(img.convert('I').resize((28,28))).ravel().reshape((1, -1))/255.0\n",
    "print(sample_case.shape)\n",
    "sample_case = tf.cast(sample_case, dtype=tf.float32)\n",
    "\n",
    "\n"
   ]
  },
  {
   "cell_type": "code",
   "execution_count": 79,
   "id": "f723f0bb-d484-45ee-8e48-2b7fab1a36ed",
   "metadata": {},
   "outputs": [],
   "source": [
    "output = rbm_mnist.predict(sample_case)"
   ]
  },
  {
   "cell_type": "code",
   "execution_count": 80,
   "id": "41f32216-39aa-4799-a409-1a084ee40b9d",
   "metadata": {},
   "outputs": [
    {
     "data": {
      "text/plain": [
       "numpy.ndarray"
      ]
     },
     "execution_count": 80,
     "metadata": {},
     "output_type": "execute_result"
    }
   ],
   "source": [
    "type(output)"
   ]
  },
  {
   "cell_type": "code",
   "execution_count": 81,
   "id": "22c4dffc-e957-4e8d-9b8f-9b91b8386bfc",
   "metadata": {},
   "outputs": [
    {
     "data": {
      "image/png": "[encoded data removed]",
      "text/plain": [
       "<Figure size 200x200 with 1 Axes>"
      ]
     },
     "metadata": {},
     "output_type": "display_data"
    }
   ],
   "source": [
    "img = Image.fromarray(tile_raster_images(X=output[0], img_shape=(28, 28),tile_shape=(1, 1), tile_spacing=(1, 1)))\n",
    "plt.rcParams['figure.figsize'] = (2.0, 2.0)\n",
    "imgplot = plt.imshow(img)\n",
    "imgplot.set_cmap('gray') "
   ]
  },
  {
   "cell_type": "code",
   "execution_count": 82,
   "id": "ddb4fbec-9a71-4044-bc00-0552dc2e5036",
   "metadata": {},
   "outputs": [
    {
     "name": "stdout",
     "output_type": "stream",
     "text": [
      "(1, 1, 784)\n"
     ]
    }
   ],
   "source": [
    "loaded_model = RBM.load_model(\"mnist_model.npz\")\n",
    "vv1_p = loaded_model.predict(train_X[1].numpy().reshape(1, -1))\n",
    "print(vv1_p.shape)\n"
   ]
  },
  {
   "cell_type": "code",
   "execution_count": 83,
   "id": "53576ff0-029e-4faa-88fe-6f80d4fb9dd1",
   "metadata": {},
   "outputs": [
    {
     "data": {
      "image/png": "[encoded data removed]",
      "text/plain": [
       "<Figure size 200x200 with 1 Axes>"
      ]
     },
     "metadata": {},
     "output_type": "display_data"
    }
   ],
   "source": [
    "img = Image.fromarray(tile_raster_images(X=vv1_p[0], img_shape=(28, 28),tile_shape=(1, 1), tile_spacing=(1, 1)))\n",
    "plt.rcParams['figure.figsize'] = (2.0, 2.0)\n",
    "imgplot = plt.imshow(img)\n",
    "imgplot.set_cmap('gray') "
   ]
  },
  {
   "cell_type": "code",
   "execution_count": null,
   "id": "ff986348-3a4d-484f-ab1f-bb05c4aa68b8",
   "metadata": {},
   "outputs": [],
   "source": []
  },
  {
   "cell_type": "code",
   "execution_count": null,
   "id": "1852d8b7-510f-42ef-89b4-d9eb41611e07",
   "metadata": {},
   "outputs": [],
   "source": []
  }
 ],
 "metadata": {
  "kernelspec": {
   "display_name": "Python 3 (ipykernel)",
   "language": "python",
   "name": "python3"
  },
  "language_info": {
   "codemirror_mode": {
    "name": "ipython",
    "version": 3
   },
   "file_extension": ".py",
   "mimetype": "text/x-python",
   "name": "python",
   "nbconvert_exporter": "python",
   "pygments_lexer": "ipython3",
   "version": "3.10.15"
  }
 },
 "nbformat": 4,
 "nbformat_minor": 5
}
